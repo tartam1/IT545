{
  "cells": [
    {
      "cell_type": "markdown",
      "metadata": {
        "id": "view-in-github",
        "colab_type": "text"
      },
      "source": [
        "<a href=\"https://colab.research.google.com/github/tartam1/IT545/blob/main/Lab_1_Assignment_v1.ipynb\" target=\"_parent\"><img src=\"https://colab.research.google.com/assets/colab-badge.svg\" alt=\"Open In Colab\"/></a>"
      ]
    },
    {
      "cell_type": "markdown",
      "metadata": {
        "id": "8vMmagtjR9-E"
      },
      "source": [
        "# Lab Assignment 1"
      ]
    },
    {
      "cell_type": "markdown",
      "metadata": {
        "id": "BHMwKhrcR9-F"
      },
      "source": [
        "## Chapter 2 - Python Language Basics, IPython, and Jupyter Notebooks"
      ]
    },
    {
      "cell_type": "code",
      "execution_count": 1,
      "metadata": {
        "id": "NnoQB6EGR9-F"
      },
      "outputs": [],
      "source": [
        "# Import Series and DataFrame into local namespace\n",
        "# Run this code to properly import the components\n",
        "import numpy as np\n",
        "import pandas as pd\n",
        "from pandas import Series, DataFrame"
      ]
    },
    {
      "cell_type": "markdown",
      "metadata": {
        "id": "kmNXNbK3R9-F"
      },
      "source": [
        "## Problem 1"
      ]
    },
    {
      "cell_type": "markdown",
      "metadata": {
        "id": "7Muu-OKIR9-G"
      },
      "source": [
        "#### In this problem, you will type out (in separate cells) the lines under the headings of Tab Completion and Introspection (after Section 2.2 IPython Basics)"
      ]
    },
    {
      "cell_type": "code",
      "execution_count": null,
      "metadata": {
        "id": "C6z1jgVfR9-G"
      },
      "outputs": [],
      "source": [
        "# Type code below"
      ]
    },
    {
      "cell_type": "code",
      "source": [
        "an_apple = 27"
      ],
      "metadata": {
        "id": "muCcAzdLlAMJ"
      },
      "execution_count": 2,
      "outputs": []
    },
    {
      "cell_type": "code",
      "source": [
        "an_example = 42"
      ],
      "metadata": {
        "id": "LycVKmJMlGop"
      },
      "execution_count": 3,
      "outputs": []
    },
    {
      "cell_type": "code",
      "source": [
        "an"
      ],
      "metadata": {
        "id": "hqXYBZOklNiE"
      },
      "execution_count": 4,
      "outputs": []
    },
    {
      "cell_type": "markdown",
      "source": [
        "When I did the tab key the popup did come up with various options on jupyter notbook. In colab the popup cameup without the tab. I can then select an entry if I want an at that point tab selects the item."
      ],
      "metadata": {
        "id": "2zO93i_xmief"
      }
    },
    {
      "cell_type": "code",
      "source": [
        "b = [1, 2, 3]"
      ],
      "metadata": {
        "id": "ZFu0SAevmefQ"
      },
      "execution_count": 5,
      "outputs": []
    },
    {
      "cell_type": "code",
      "source": [
        "b."
      ],
      "metadata": {
        "id": "evS3kslpnkOy"
      },
      "execution_count": null,
      "outputs": []
    },
    {
      "cell_type": "markdown",
      "source": [
        "Same thing as the previous entry with the selections and popups."
      ],
      "metadata": {
        "id": "PDZT-EdPnpBj"
      }
    },
    {
      "cell_type": "code",
      "source": [
        "import datetime"
      ],
      "metadata": {
        "id": "7VWthpCOn7bq"
      },
      "execution_count": 6,
      "outputs": []
    },
    {
      "cell_type": "code",
      "source": [
        "datetime."
      ],
      "metadata": {
        "id": "MrPmo_TVn-_S"
      },
      "execution_count": null,
      "outputs": []
    },
    {
      "cell_type": "markdown",
      "source": [
        "Same as previous input but with the datetime options."
      ],
      "metadata": {
        "id": "HEiQ72gZoMNl"
      }
    },
    {
      "cell_type": "markdown",
      "source": [
        "Introspection"
      ],
      "metadata": {
        "id": "2RVSri-VohH8"
      }
    },
    {
      "cell_type": "code",
      "source": [
        "b = [1, 2, 3]"
      ],
      "metadata": {
        "id": "GMXj5_QUofL6"
      },
      "execution_count": 7,
      "outputs": []
    },
    {
      "cell_type": "code",
      "source": [
        "b?"
      ],
      "metadata": {
        "id": "J4UQ4vSyowSr"
      },
      "execution_count": 8,
      "outputs": []
    },
    {
      "cell_type": "code",
      "source": [
        "print?"
      ],
      "metadata": {
        "id": "3JmeibgYoz8i"
      },
      "execution_count": 9,
      "outputs": []
    },
    {
      "cell_type": "code",
      "source": [
        "def add_numbers(a, b):\n",
        "    \"\"\"\n",
        "    Add two numbers together\n",
        "\n",
        "    Returns\n",
        "    -------\n",
        "    the_sum : type of arguments\n",
        "    \"\"\"\n",
        "    return a + b"
      ],
      "metadata": {
        "id": "fzcKGdtepMB8"
      },
      "execution_count": 11,
      "outputs": []
    },
    {
      "cell_type": "code",
      "source": [
        "add_numbers?"
      ],
      "metadata": {
        "id": "a7zkJ4MfpVEm"
      },
      "execution_count": 12,
      "outputs": []
    },
    {
      "cell_type": "code",
      "source": [
        "import numpy as np"
      ],
      "metadata": {
        "id": "O4NyWDAqp3ty"
      },
      "execution_count": 13,
      "outputs": []
    },
    {
      "cell_type": "code",
      "source": [
        "np.*load*?"
      ],
      "metadata": {
        "id": "4FiUXYugp7oQ"
      },
      "execution_count": 14,
      "outputs": []
    },
    {
      "cell_type": "markdown",
      "metadata": {
        "id": "1ncxMnzaR9-G"
      },
      "source": [
        "## Problem 2"
      ]
    },
    {
      "cell_type": "markdown",
      "metadata": {
        "id": "5eidlVovR9-G"
      },
      "source": [
        "#### In this problem, you will type out the input lines (under the headings) in the Language Semantics section (in Section 2.3 Python Language Basics) - Variables and argument passing; Dynamic references, strong types;"
      ]
    },
    {
      "cell_type": "code",
      "execution_count": null,
      "metadata": {
        "id": "p2oSMvO-R9-G"
      },
      "outputs": [],
      "source": [
        "# Type code below"
      ]
    },
    {
      "cell_type": "markdown",
      "metadata": {
        "id": "z3uRChQvR9-G"
      },
      "source": [
        "## Problem 3"
      ]
    },
    {
      "cell_type": "markdown",
      "metadata": {
        "id": "cg116ytFR9-G"
      },
      "source": [
        "#### In this problem, you will type out the input lines (under the headings) in the Language Semantics section (in Section 2.3 Python Language Basics) - Imports; Binary operators and comparisons"
      ]
    },
    {
      "cell_type": "code",
      "execution_count": null,
      "metadata": {
        "scrolled": false,
        "id": "0BYuhRlqR9-G"
      },
      "outputs": [],
      "source": [
        "# Type code below"
      ]
    },
    {
      "cell_type": "markdown",
      "metadata": {
        "id": "HxKMYdWLR9-G"
      },
      "source": [
        "## Problem 4"
      ]
    },
    {
      "cell_type": "markdown",
      "metadata": {
        "id": "zN48JON4R9-G"
      },
      "source": [
        "#### In this problem, you will type out the input lines (under the headings) in the Language Semantics section (in Section 2.3 Python Language Basics) - Mutable and immutable objects."
      ]
    },
    {
      "cell_type": "code",
      "execution_count": null,
      "metadata": {
        "id": "bRNzco3bR9-G"
      },
      "outputs": [],
      "source": [
        "# Type code below"
      ]
    },
    {
      "cell_type": "markdown",
      "metadata": {
        "id": "-awK_GBER9-G"
      },
      "source": [
        "## Problem 5"
      ]
    },
    {
      "cell_type": "markdown",
      "metadata": {
        "id": "mAR7PWkhR9-G"
      },
      "source": [
        "#### In this problem, you will type out the input lines (under the headings) in the Scalar Types section (in Section 2.3 Python Language Basics) - Numeric types; Strings."
      ]
    },
    {
      "cell_type": "code",
      "execution_count": null,
      "metadata": {
        "id": "VkGjqwDgR9-G"
      },
      "outputs": [],
      "source": [
        "# Type code below"
      ]
    },
    {
      "cell_type": "markdown",
      "metadata": {
        "id": "fMCideHQR9-G"
      },
      "source": [
        "## Problem 6"
      ]
    },
    {
      "cell_type": "markdown",
      "metadata": {
        "id": "2DDNJLrvR9-H"
      },
      "source": [
        "#### In this problem, you will type out the input lines (under the headings) in the Scalar Types section (in Section 2.3 Python Language Basics) - Bytes and Unicode; Booleans."
      ]
    },
    {
      "cell_type": "code",
      "execution_count": null,
      "metadata": {
        "scrolled": true,
        "id": "gWGqIy3jR9-H"
      },
      "outputs": [],
      "source": [
        "# Type code below"
      ]
    },
    {
      "cell_type": "markdown",
      "metadata": {
        "id": "0zwPgYAyR9-H"
      },
      "source": [
        "## Problem 7"
      ]
    },
    {
      "cell_type": "markdown",
      "metadata": {
        "id": "GRVmmhRTR9-H"
      },
      "source": [
        "#### In this problem, you will type out the input lines (under the headings) in the Scalar Types section (in Section 2.3 Python Language Basics) - Dates and times."
      ]
    },
    {
      "cell_type": "code",
      "execution_count": null,
      "metadata": {
        "scrolled": true,
        "id": "wllSV5AhR9-H"
      },
      "outputs": [],
      "source": [
        "# Type code below"
      ]
    },
    {
      "cell_type": "markdown",
      "metadata": {
        "id": "tbRf_KvQR9-H"
      },
      "source": [
        "## Problem 8"
      ]
    },
    {
      "cell_type": "markdown",
      "metadata": {
        "id": "ltUroJmAR9-H"
      },
      "source": [
        "#### In this problem, you will type out the input lines (under the headings) in the Control Flow section (in Section 2.3 Python Language Basics) - if, elif, and else."
      ]
    },
    {
      "cell_type": "code",
      "execution_count": null,
      "metadata": {
        "scrolled": true,
        "id": "P5W2dwYER9-H"
      },
      "outputs": [],
      "source": [
        "# Type code below"
      ]
    },
    {
      "cell_type": "markdown",
      "metadata": {
        "id": "QfTj3vqmR9-H"
      },
      "source": [
        "## Problem 9"
      ]
    },
    {
      "cell_type": "markdown",
      "metadata": {
        "id": "Yg9dZOq2R9-H"
      },
      "source": [
        "#### In this problem, you will type out the input lines (under the headings) in the Control Flow section (in Section 2.3 Python Language Basics) - for loops."
      ]
    },
    {
      "cell_type": "code",
      "execution_count": null,
      "metadata": {
        "scrolled": true,
        "id": "DdAD5m6DR9-H"
      },
      "outputs": [],
      "source": [
        "# Type code below"
      ]
    },
    {
      "cell_type": "markdown",
      "metadata": {
        "id": "ZX2RH9jpR9-H"
      },
      "source": [
        "## Problem 10"
      ]
    },
    {
      "cell_type": "markdown",
      "metadata": {
        "id": "XUmHHdIyR9-H"
      },
      "source": [
        "#### EDIT - In this problem, you will type out the input lines (under the headings) in the Control Flow section (in Section 2.3 Python Language Basics) - while loops."
      ]
    },
    {
      "cell_type": "code",
      "execution_count": null,
      "metadata": {
        "scrolled": true,
        "id": "Q9cX-bayR9-H"
      },
      "outputs": [],
      "source": [
        "# Type code below"
      ]
    }
  ],
  "metadata": {
    "kernelspec": {
      "display_name": "Python 3 (ipykernel)",
      "language": "python",
      "name": "python3"
    },
    "language_info": {
      "codemirror_mode": {
        "name": "ipython",
        "version": 3
      },
      "file_extension": ".py",
      "mimetype": "text/x-python",
      "name": "python",
      "nbconvert_exporter": "python",
      "pygments_lexer": "ipython3",
      "version": "3.11.4"
    },
    "colab": {
      "provenance": [],
      "include_colab_link": true
    }
  },
  "nbformat": 4,
  "nbformat_minor": 0
}