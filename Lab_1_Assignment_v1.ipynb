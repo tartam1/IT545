{
  "cells": [
    {
      "cell_type": "markdown",
      "metadata": {
        "id": "view-in-github",
        "colab_type": "text"
      },
      "source": [
        "<a href=\"https://colab.research.google.com/github/tartam1/IT545/blob/main/Lab_1_Assignment_v1.ipynb\" target=\"_parent\"><img src=\"https://colab.research.google.com/assets/colab-badge.svg\" alt=\"Open In Colab\"/></a>"
      ]
    },
    {
      "cell_type": "markdown",
      "metadata": {
        "id": "8vMmagtjR9-E"
      },
      "source": [
        "# Lab Assignment 1"
      ]
    },
    {
      "cell_type": "markdown",
      "metadata": {
        "id": "BHMwKhrcR9-F"
      },
      "source": [
        "## Chapter 2 - Python Language Basics, IPython, and Jupyter Notebooks"
      ]
    },
    {
      "cell_type": "code",
      "execution_count": null,
      "metadata": {
        "id": "NnoQB6EGR9-F"
      },
      "outputs": [],
      "source": [
        "# Import Series and DataFrame into local namespace\n",
        "# Run this code to properly import the components\n",
        "import numpy as np\n",
        "import pandas as pd\n",
        "from pandas import Series, DataFrame"
      ]
    },
    {
      "cell_type": "markdown",
      "metadata": {
        "id": "kmNXNbK3R9-F"
      },
      "source": [
        "## Problem 1"
      ]
    },
    {
      "cell_type": "markdown",
      "metadata": {
        "id": "7Muu-OKIR9-G"
      },
      "source": [
        "#### In this problem, you will type out (in separate cells) the lines under the headings of Tab Completion and Introspection (after Section 2.2 IPython Basics)"
      ]
    },
    {
      "cell_type": "code",
      "execution_count": null,
      "metadata": {
        "id": "C6z1jgVfR9-G"
      },
      "outputs": [],
      "source": [
        "# Type code below"
      ]
    },
    {
      "cell_type": "code",
      "source": [
        "an_apple = 27"
      ],
      "metadata": {
        "id": "muCcAzdLlAMJ"
      },
      "execution_count": null,
      "outputs": []
    },
    {
      "cell_type": "code",
      "source": [
        "an_example = 42"
      ],
      "metadata": {
        "id": "LycVKmJMlGop"
      },
      "execution_count": null,
      "outputs": []
    },
    {
      "cell_type": "code",
      "source": [
        "an"
      ],
      "metadata": {
        "id": "hqXYBZOklNiE"
      },
      "execution_count": null,
      "outputs": []
    },
    {
      "cell_type": "markdown",
      "source": [
        "When I did the tab key the popup did come up with various options on jupyter notbook. In colab the popup cameup without the tab. I can then select an entry if I want an at that point tab selects the item."
      ],
      "metadata": {
        "id": "2zO93i_xmief"
      }
    },
    {
      "cell_type": "code",
      "source": [
        "b = [1, 2, 3]"
      ],
      "metadata": {
        "id": "ZFu0SAevmefQ"
      },
      "execution_count": null,
      "outputs": []
    },
    {
      "cell_type": "code",
      "source": [
        "b."
      ],
      "metadata": {
        "id": "evS3kslpnkOy"
      },
      "execution_count": null,
      "outputs": []
    },
    {
      "cell_type": "markdown",
      "source": [
        "Same thing as the previous entry with the selections and popups."
      ],
      "metadata": {
        "id": "PDZT-EdPnpBj"
      }
    },
    {
      "cell_type": "code",
      "source": [
        "import datetime"
      ],
      "metadata": {
        "id": "7VWthpCOn7bq"
      },
      "execution_count": null,
      "outputs": []
    },
    {
      "cell_type": "code",
      "source": [
        "datetime."
      ],
      "metadata": {
        "id": "MrPmo_TVn-_S"
      },
      "execution_count": null,
      "outputs": []
    },
    {
      "cell_type": "markdown",
      "source": [
        "Same as previous input but with the datetime options."
      ],
      "metadata": {
        "id": "HEiQ72gZoMNl"
      }
    },
    {
      "cell_type": "markdown",
      "source": [
        "Introspection"
      ],
      "metadata": {
        "id": "2RVSri-VohH8"
      }
    },
    {
      "cell_type": "code",
      "source": [
        "b = [1, 2, 3]"
      ],
      "metadata": {
        "id": "GMXj5_QUofL6"
      },
      "execution_count": null,
      "outputs": []
    },
    {
      "cell_type": "code",
      "source": [
        "b?"
      ],
      "metadata": {
        "id": "J4UQ4vSyowSr"
      },
      "execution_count": null,
      "outputs": []
    },
    {
      "cell_type": "code",
      "source": [
        "print?"
      ],
      "metadata": {
        "id": "3JmeibgYoz8i"
      },
      "execution_count": null,
      "outputs": []
    },
    {
      "cell_type": "code",
      "source": [
        "def add_numbers(a, b):\n",
        "    \"\"\"\n",
        "    Add two numbers together\n",
        "\n",
        "    Returns\n",
        "    -------\n",
        "    the_sum : type of arguments\n",
        "    \"\"\"\n",
        "    return a + b"
      ],
      "metadata": {
        "id": "fzcKGdtepMB8"
      },
      "execution_count": null,
      "outputs": []
    },
    {
      "cell_type": "code",
      "source": [
        "add_numbers?"
      ],
      "metadata": {
        "id": "a7zkJ4MfpVEm"
      },
      "execution_count": null,
      "outputs": []
    },
    {
      "cell_type": "code",
      "source": [
        "import numpy as np"
      ],
      "metadata": {
        "id": "O4NyWDAqp3ty"
      },
      "execution_count": null,
      "outputs": []
    },
    {
      "cell_type": "code",
      "source": [
        "np.*load*?"
      ],
      "metadata": {
        "id": "4FiUXYugp7oQ"
      },
      "execution_count": null,
      "outputs": []
    },
    {
      "cell_type": "markdown",
      "metadata": {
        "id": "1ncxMnzaR9-G"
      },
      "source": [
        "## Problem 2"
      ]
    },
    {
      "cell_type": "markdown",
      "metadata": {
        "id": "5eidlVovR9-G"
      },
      "source": [
        "#### In this problem, you will type out the input lines (under the headings) in the Language Semantics section (in Section 2.3 Python Language Basics) - Variables and argument passing; Dynamic references, strong types;"
      ]
    },
    {
      "cell_type": "markdown",
      "source": [
        "Variable and argument passing"
      ],
      "metadata": {
        "id": "zV_bRvZ5vVS6"
      }
    },
    {
      "cell_type": "code",
      "execution_count": null,
      "metadata": {
        "id": "p2oSMvO-R9-G"
      },
      "outputs": [],
      "source": [
        "# Type code below"
      ]
    },
    {
      "cell_type": "code",
      "source": [
        "a = [1, 2, 3]"
      ],
      "metadata": {
        "id": "RaAM10KhvZ6e"
      },
      "execution_count": null,
      "outputs": []
    },
    {
      "cell_type": "code",
      "source": [
        "b = a"
      ],
      "metadata": {
        "id": "PhZzK8zEvegv"
      },
      "execution_count": null,
      "outputs": []
    },
    {
      "cell_type": "code",
      "source": [
        "b"
      ],
      "metadata": {
        "colab": {
          "base_uri": "https://localhost:8080/"
        },
        "id": "n3KUo4Ikvgqk",
        "outputId": "3599e9b2-3e4d-42c7-f1bc-deb38f56c3ad"
      },
      "execution_count": null,
      "outputs": [
        {
          "output_type": "execute_result",
          "data": {
            "text/plain": [
              "[1, 2, 3]"
            ]
          },
          "metadata": {},
          "execution_count": 17
        }
      ]
    },
    {
      "cell_type": "code",
      "source": [
        "a.append(4)"
      ],
      "metadata": {
        "id": "oIrWMm7Cvi9p"
      },
      "execution_count": null,
      "outputs": []
    },
    {
      "cell_type": "code",
      "source": [
        "b"
      ],
      "metadata": {
        "colab": {
          "base_uri": "https://localhost:8080/"
        },
        "id": "qyqFft1gvnHQ",
        "outputId": "09a95288-3844-440a-94d6-c841d36cf9ba"
      },
      "execution_count": null,
      "outputs": [
        {
          "output_type": "execute_result",
          "data": {
            "text/plain": [
              "[1, 2, 3, 4]"
            ]
          },
          "metadata": {},
          "execution_count": 19
        }
      ]
    },
    {
      "cell_type": "code",
      "source": [
        "def append_element(some_list, element):\n",
        "    some_list.append(element)"
      ],
      "metadata": {
        "id": "kugHb9jQvsZj"
      },
      "execution_count": null,
      "outputs": []
    },
    {
      "cell_type": "code",
      "source": [
        "data = [1, 2, 3]"
      ],
      "metadata": {
        "id": "8w-u8Alyv1fU"
      },
      "execution_count": null,
      "outputs": []
    },
    {
      "cell_type": "code",
      "source": [
        "append_element(data, 4)"
      ],
      "metadata": {
        "id": "bnb7entOv44f"
      },
      "execution_count": null,
      "outputs": []
    },
    {
      "cell_type": "code",
      "source": [
        "data"
      ],
      "metadata": {
        "colab": {
          "base_uri": "https://localhost:8080/"
        },
        "id": "dKDqDidTv7at",
        "outputId": "cb19416c-b5f0-4d7e-c825-5822a37e7d61"
      },
      "execution_count": null,
      "outputs": [
        {
          "output_type": "execute_result",
          "data": {
            "text/plain": [
              "[1, 2, 3, 4]"
            ]
          },
          "metadata": {},
          "execution_count": 25
        }
      ]
    },
    {
      "cell_type": "markdown",
      "source": [
        "Dynamic references, strong types"
      ],
      "metadata": {
        "id": "BrSGkXrOv9vQ"
      }
    },
    {
      "cell_type": "code",
      "source": [
        "a = 5"
      ],
      "metadata": {
        "id": "RyIGabruwAls"
      },
      "execution_count": null,
      "outputs": []
    },
    {
      "cell_type": "code",
      "source": [
        "type(a)"
      ],
      "metadata": {
        "colab": {
          "base_uri": "https://localhost:8080/"
        },
        "id": "N72JTu_RwCnp",
        "outputId": "2612a0d1-9079-48fa-b131-de1a18719877"
      },
      "execution_count": null,
      "outputs": [
        {
          "output_type": "execute_result",
          "data": {
            "text/plain": [
              "int"
            ]
          },
          "metadata": {},
          "execution_count": 27
        }
      ]
    },
    {
      "cell_type": "code",
      "source": [
        "a = \"foo\""
      ],
      "metadata": {
        "id": "37vCKnjQwFXL"
      },
      "execution_count": null,
      "outputs": []
    },
    {
      "cell_type": "code",
      "source": [
        "type(a)"
      ],
      "metadata": {
        "colab": {
          "base_uri": "https://localhost:8080/"
        },
        "id": "Hy0HHnpHwIL6",
        "outputId": "2575cfa5-4867-4173-c005-cc3ba9e5403b"
      },
      "execution_count": null,
      "outputs": [
        {
          "output_type": "execute_result",
          "data": {
            "text/plain": [
              "str"
            ]
          },
          "metadata": {},
          "execution_count": 29
        }
      ]
    },
    {
      "cell_type": "code",
      "source": [
        "\"5\" + 5"
      ],
      "metadata": {
        "colab": {
          "base_uri": "https://localhost:8080/",
          "height": 144
        },
        "id": "Dg6BBLotwMxa",
        "outputId": "ba9309a0-d315-4ff8-e3d3-f30ca3b07958"
      },
      "execution_count": null,
      "outputs": [
        {
          "output_type": "error",
          "ename": "TypeError",
          "evalue": "can only concatenate str (not \"int\") to str",
          "traceback": [
            "\u001b[0;31m---------------------------------------------------------------------------\u001b[0m",
            "\u001b[0;31mTypeError\u001b[0m                                 Traceback (most recent call last)",
            "\u001b[0;32m/tmp/ipython-input-30-4107985378.py\u001b[0m in \u001b[0;36m<cell line: 0>\u001b[0;34m()\u001b[0m\n\u001b[0;32m----> 1\u001b[0;31m \u001b[0;34m\"5\"\u001b[0m \u001b[0;34m+\u001b[0m \u001b[0;36m5\u001b[0m\u001b[0;34m\u001b[0m\u001b[0;34m\u001b[0m\u001b[0m\n\u001b[0m",
            "\u001b[0;31mTypeError\u001b[0m: can only concatenate str (not \"int\") to str"
          ]
        }
      ]
    },
    {
      "cell_type": "code",
      "source": [
        "a = 4.5"
      ],
      "metadata": {
        "id": "HW8FjGr7wSos"
      },
      "execution_count": null,
      "outputs": []
    },
    {
      "cell_type": "code",
      "source": [
        "b = 2"
      ],
      "metadata": {
        "id": "Z-z3YxO8wVKY"
      },
      "execution_count": null,
      "outputs": []
    },
    {
      "cell_type": "code",
      "source": [
        "print(f\"a is {type(a)}, b is {type(b)}\")"
      ],
      "metadata": {
        "colab": {
          "base_uri": "https://localhost:8080/"
        },
        "id": "JojvjI84wX4V",
        "outputId": "97d1bea5-a8c7-4222-d805-d0da24adb44d"
      },
      "execution_count": null,
      "outputs": [
        {
          "output_type": "stream",
          "name": "stdout",
          "text": [
            "a is <class 'float'>, b is <class 'int'>\n"
          ]
        }
      ]
    },
    {
      "cell_type": "code",
      "source": [
        "a / b"
      ],
      "metadata": {
        "colab": {
          "base_uri": "https://localhost:8080/"
        },
        "id": "lDB81ESXwp_m",
        "outputId": "ef8298e4-c1ba-4f5e-a2a1-eed319710416"
      },
      "execution_count": null,
      "outputs": [
        {
          "output_type": "execute_result",
          "data": {
            "text/plain": [
              "2.25"
            ]
          },
          "metadata": {},
          "execution_count": 34
        }
      ]
    },
    {
      "cell_type": "code",
      "source": [
        "a = 5"
      ],
      "metadata": {
        "id": "tv1HHPcLwsIH"
      },
      "execution_count": null,
      "outputs": []
    },
    {
      "cell_type": "code",
      "source": [
        "isinstance(a, int)"
      ],
      "metadata": {
        "colab": {
          "base_uri": "https://localhost:8080/"
        },
        "id": "EpvLHPU_wuVN",
        "outputId": "a1a0feeb-15df-4c57-a07b-f723b325cd7e"
      },
      "execution_count": null,
      "outputs": [
        {
          "output_type": "execute_result",
          "data": {
            "text/plain": [
              "True"
            ]
          },
          "metadata": {},
          "execution_count": 36
        }
      ]
    },
    {
      "cell_type": "code",
      "source": [
        "a = 5; b = 4.5"
      ],
      "metadata": {
        "id": "xLIcdgaXwxZ2"
      },
      "execution_count": null,
      "outputs": []
    },
    {
      "cell_type": "code",
      "source": [
        "isinstance(a, (int, float))"
      ],
      "metadata": {
        "id": "LCVWfoOhw0zi",
        "outputId": "e8a9e3a8-ec15-4663-aba5-128e329034c3",
        "colab": {
          "base_uri": "https://localhost:8080/"
        }
      },
      "execution_count": null,
      "outputs": [
        {
          "output_type": "execute_result",
          "data": {
            "text/plain": [
              "True"
            ]
          },
          "metadata": {},
          "execution_count": 38
        }
      ]
    },
    {
      "cell_type": "code",
      "source": [
        "isinstance(b, (int, float))"
      ],
      "metadata": {
        "id": "11ZFn4mew4_g",
        "outputId": "45a5d757-31cb-45f0-fa2e-ca44553bd515",
        "colab": {
          "base_uri": "https://localhost:8080/"
        }
      },
      "execution_count": null,
      "outputs": [
        {
          "output_type": "execute_result",
          "data": {
            "text/plain": [
              "True"
            ]
          },
          "metadata": {},
          "execution_count": 39
        }
      ]
    },
    {
      "cell_type": "markdown",
      "metadata": {
        "id": "z3uRChQvR9-G"
      },
      "source": [
        "## Problem 3"
      ]
    },
    {
      "cell_type": "markdown",
      "metadata": {
        "id": "cg116ytFR9-G"
      },
      "source": [
        "#### In this problem, you will type out the input lines (under the headings) in the Language Semantics section (in Section 2.3 Python Language Basics) - Imports; Binary operators and comparisons"
      ]
    },
    {
      "cell_type": "code",
      "execution_count": null,
      "metadata": {
        "scrolled": false,
        "id": "0BYuhRlqR9-G"
      },
      "outputs": [],
      "source": [
        "# Type code below"
      ]
    },
    {
      "cell_type": "markdown",
      "metadata": {
        "id": "HxKMYdWLR9-G"
      },
      "source": [
        "## Problem 4"
      ]
    },
    {
      "cell_type": "markdown",
      "metadata": {
        "id": "zN48JON4R9-G"
      },
      "source": [
        "#### In this problem, you will type out the input lines (under the headings) in the Language Semantics section (in Section 2.3 Python Language Basics) - Mutable and immutable objects."
      ]
    },
    {
      "cell_type": "code",
      "execution_count": null,
      "metadata": {
        "id": "bRNzco3bR9-G"
      },
      "outputs": [],
      "source": [
        "# Type code below"
      ]
    },
    {
      "cell_type": "markdown",
      "metadata": {
        "id": "-awK_GBER9-G"
      },
      "source": [
        "## Problem 5"
      ]
    },
    {
      "cell_type": "markdown",
      "metadata": {
        "id": "mAR7PWkhR9-G"
      },
      "source": [
        "#### In this problem, you will type out the input lines (under the headings) in the Scalar Types section (in Section 2.3 Python Language Basics) - Numeric types; Strings."
      ]
    },
    {
      "cell_type": "code",
      "execution_count": null,
      "metadata": {
        "id": "VkGjqwDgR9-G"
      },
      "outputs": [],
      "source": [
        "# Type code below"
      ]
    },
    {
      "cell_type": "markdown",
      "metadata": {
        "id": "fMCideHQR9-G"
      },
      "source": [
        "## Problem 6"
      ]
    },
    {
      "cell_type": "markdown",
      "metadata": {
        "id": "2DDNJLrvR9-H"
      },
      "source": [
        "#### In this problem, you will type out the input lines (under the headings) in the Scalar Types section (in Section 2.3 Python Language Basics) - Bytes and Unicode; Booleans."
      ]
    },
    {
      "cell_type": "code",
      "execution_count": null,
      "metadata": {
        "scrolled": true,
        "id": "gWGqIy3jR9-H"
      },
      "outputs": [],
      "source": [
        "# Type code below"
      ]
    },
    {
      "cell_type": "markdown",
      "metadata": {
        "id": "0zwPgYAyR9-H"
      },
      "source": [
        "## Problem 7"
      ]
    },
    {
      "cell_type": "markdown",
      "metadata": {
        "id": "GRVmmhRTR9-H"
      },
      "source": [
        "#### In this problem, you will type out the input lines (under the headings) in the Scalar Types section (in Section 2.3 Python Language Basics) - Dates and times."
      ]
    },
    {
      "cell_type": "code",
      "execution_count": null,
      "metadata": {
        "scrolled": true,
        "id": "wllSV5AhR9-H"
      },
      "outputs": [],
      "source": [
        "# Type code below"
      ]
    },
    {
      "cell_type": "markdown",
      "metadata": {
        "id": "tbRf_KvQR9-H"
      },
      "source": [
        "## Problem 8"
      ]
    },
    {
      "cell_type": "markdown",
      "metadata": {
        "id": "ltUroJmAR9-H"
      },
      "source": [
        "#### In this problem, you will type out the input lines (under the headings) in the Control Flow section (in Section 2.3 Python Language Basics) - if, elif, and else."
      ]
    },
    {
      "cell_type": "code",
      "execution_count": null,
      "metadata": {
        "scrolled": true,
        "id": "P5W2dwYER9-H"
      },
      "outputs": [],
      "source": [
        "# Type code below"
      ]
    },
    {
      "cell_type": "markdown",
      "metadata": {
        "id": "QfTj3vqmR9-H"
      },
      "source": [
        "## Problem 9"
      ]
    },
    {
      "cell_type": "markdown",
      "metadata": {
        "id": "Yg9dZOq2R9-H"
      },
      "source": [
        "#### In this problem, you will type out the input lines (under the headings) in the Control Flow section (in Section 2.3 Python Language Basics) - for loops."
      ]
    },
    {
      "cell_type": "code",
      "execution_count": null,
      "metadata": {
        "scrolled": true,
        "id": "DdAD5m6DR9-H"
      },
      "outputs": [],
      "source": [
        "# Type code below"
      ]
    },
    {
      "cell_type": "markdown",
      "metadata": {
        "id": "ZX2RH9jpR9-H"
      },
      "source": [
        "## Problem 10"
      ]
    },
    {
      "cell_type": "markdown",
      "metadata": {
        "id": "XUmHHdIyR9-H"
      },
      "source": [
        "#### EDIT - In this problem, you will type out the input lines (under the headings) in the Control Flow section (in Section 2.3 Python Language Basics) - while loops."
      ]
    },
    {
      "cell_type": "code",
      "execution_count": null,
      "metadata": {
        "scrolled": true,
        "id": "Q9cX-bayR9-H"
      },
      "outputs": [],
      "source": [
        "# Type code below"
      ]
    }
  ],
  "metadata": {
    "kernelspec": {
      "display_name": "Python 3 (ipykernel)",
      "language": "python",
      "name": "python3"
    },
    "language_info": {
      "codemirror_mode": {
        "name": "ipython",
        "version": 3
      },
      "file_extension": ".py",
      "mimetype": "text/x-python",
      "name": "python",
      "nbconvert_exporter": "python",
      "pygments_lexer": "ipython3",
      "version": "3.11.4"
    },
    "colab": {
      "provenance": [],
      "include_colab_link": true
    }
  },
  "nbformat": 4,
  "nbformat_minor": 0
}