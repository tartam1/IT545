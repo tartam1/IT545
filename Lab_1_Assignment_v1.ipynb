{
  "cells": [
    {
      "cell_type": "markdown",
      "metadata": {
        "id": "view-in-github",
        "colab_type": "text"
      },
      "source": [
        "<a href=\"https://colab.research.google.com/github/tartam1/IT545/blob/main/Lab_1_Assignment_v1.ipynb\" target=\"_parent\"><img src=\"https://colab.research.google.com/assets/colab-badge.svg\" alt=\"Open In Colab\"/></a>"
      ]
    },
    {
      "cell_type": "markdown",
      "metadata": {
        "id": "8vMmagtjR9-E"
      },
      "source": [
        "# Lab Assignment 1"
      ]
    },
    {
      "cell_type": "markdown",
      "metadata": {
        "id": "BHMwKhrcR9-F"
      },
      "source": [
        "## Chapter 2 - Python Language Basics, IPython, and Jupyter Notebooks"
      ]
    },
    {
      "cell_type": "code",
      "execution_count": null,
      "metadata": {
        "id": "NnoQB6EGR9-F"
      },
      "outputs": [],
      "source": [
        "# Import Series and DataFrame into local namespace\n",
        "# Run this code to properly import the components\n",
        "import numpy as np\n",
        "import pandas as pd\n",
        "from pandas import Series, DataFrame"
      ]
    },
    {
      "cell_type": "markdown",
      "metadata": {
        "id": "kmNXNbK3R9-F"
      },
      "source": [
        "## Problem 1"
      ]
    },
    {
      "cell_type": "markdown",
      "metadata": {
        "id": "7Muu-OKIR9-G"
      },
      "source": [
        "#### In this problem, you will type out (in separate cells) the lines under the headings of Tab Completion and Introspection (after Section 2.2 IPython Basics)"
      ]
    },
    {
      "cell_type": "code",
      "execution_count": null,
      "metadata": {
        "id": "C6z1jgVfR9-G"
      },
      "outputs": [],
      "source": [
        "# Type code below"
      ]
    },
    {
      "cell_type": "code",
      "source": [
        "an_apple = 27"
      ],
      "metadata": {
        "id": "muCcAzdLlAMJ"
      },
      "execution_count": null,
      "outputs": []
    },
    {
      "cell_type": "code",
      "source": [
        "an_example = 42"
      ],
      "metadata": {
        "id": "LycVKmJMlGop"
      },
      "execution_count": null,
      "outputs": []
    },
    {
      "cell_type": "code",
      "source": [
        "an"
      ],
      "metadata": {
        "id": "hqXYBZOklNiE"
      },
      "execution_count": null,
      "outputs": []
    },
    {
      "cell_type": "markdown",
      "source": [
        "When I did the tab key the popup did come up with various options on jupyter notbook. In colab the popup cameup without the tab. I can then select an entry if I want an at that point tab selects the item."
      ],
      "metadata": {
        "id": "2zO93i_xmief"
      }
    },
    {
      "cell_type": "code",
      "source": [
        "b = [1, 2, 3]"
      ],
      "metadata": {
        "id": "ZFu0SAevmefQ"
      },
      "execution_count": null,
      "outputs": []
    },
    {
      "cell_type": "code",
      "source": [
        "b."
      ],
      "metadata": {
        "id": "evS3kslpnkOy"
      },
      "execution_count": null,
      "outputs": []
    },
    {
      "cell_type": "markdown",
      "source": [
        "Same thing as the previous entry with the selections and popups."
      ],
      "metadata": {
        "id": "PDZT-EdPnpBj"
      }
    },
    {
      "cell_type": "code",
      "source": [
        "import datetime"
      ],
      "metadata": {
        "id": "7VWthpCOn7bq"
      },
      "execution_count": null,
      "outputs": []
    },
    {
      "cell_type": "code",
      "source": [
        "datetime."
      ],
      "metadata": {
        "id": "MrPmo_TVn-_S"
      },
      "execution_count": null,
      "outputs": []
    },
    {
      "cell_type": "markdown",
      "source": [
        "Same as previous input but with the datetime options."
      ],
      "metadata": {
        "id": "HEiQ72gZoMNl"
      }
    },
    {
      "cell_type": "markdown",
      "source": [
        "Introspection"
      ],
      "metadata": {
        "id": "2RVSri-VohH8"
      }
    },
    {
      "cell_type": "code",
      "source": [
        "b = [1, 2, 3]"
      ],
      "metadata": {
        "id": "GMXj5_QUofL6"
      },
      "execution_count": null,
      "outputs": []
    },
    {
      "cell_type": "code",
      "source": [
        "b?"
      ],
      "metadata": {
        "id": "J4UQ4vSyowSr"
      },
      "execution_count": null,
      "outputs": []
    },
    {
      "cell_type": "code",
      "source": [
        "print?"
      ],
      "metadata": {
        "id": "3JmeibgYoz8i"
      },
      "execution_count": null,
      "outputs": []
    },
    {
      "cell_type": "code",
      "source": [
        "def add_numbers(a, b):\n",
        "    \"\"\"\n",
        "    Add two numbers together\n",
        "\n",
        "    Returns\n",
        "    -------\n",
        "    the_sum : type of arguments\n",
        "    \"\"\"\n",
        "    return a + b"
      ],
      "metadata": {
        "id": "fzcKGdtepMB8"
      },
      "execution_count": null,
      "outputs": []
    },
    {
      "cell_type": "code",
      "source": [
        "add_numbers?"
      ],
      "metadata": {
        "id": "a7zkJ4MfpVEm"
      },
      "execution_count": null,
      "outputs": []
    },
    {
      "cell_type": "code",
      "source": [
        "import numpy as np"
      ],
      "metadata": {
        "id": "O4NyWDAqp3ty"
      },
      "execution_count": null,
      "outputs": []
    },
    {
      "cell_type": "code",
      "source": [
        "np.*load*?"
      ],
      "metadata": {
        "id": "4FiUXYugp7oQ"
      },
      "execution_count": null,
      "outputs": []
    },
    {
      "cell_type": "markdown",
      "metadata": {
        "id": "1ncxMnzaR9-G"
      },
      "source": [
        "## Problem 2"
      ]
    },
    {
      "cell_type": "markdown",
      "metadata": {
        "id": "5eidlVovR9-G"
      },
      "source": [
        "#### In this problem, you will type out the input lines (under the headings) in the Language Semantics section (in Section 2.3 Python Language Basics) - Variables and argument passing; Dynamic references, strong types;"
      ]
    },
    {
      "cell_type": "markdown",
      "source": [
        "Variable and argument passing"
      ],
      "metadata": {
        "id": "zV_bRvZ5vVS6"
      }
    },
    {
      "cell_type": "code",
      "execution_count": null,
      "metadata": {
        "id": "p2oSMvO-R9-G"
      },
      "outputs": [],
      "source": [
        "# Type code below"
      ]
    },
    {
      "cell_type": "code",
      "source": [
        "a = [1, 2, 3]"
      ],
      "metadata": {
        "id": "RaAM10KhvZ6e"
      },
      "execution_count": null,
      "outputs": []
    },
    {
      "cell_type": "code",
      "source": [
        "b = a"
      ],
      "metadata": {
        "id": "PhZzK8zEvegv"
      },
      "execution_count": null,
      "outputs": []
    },
    {
      "cell_type": "code",
      "source": [
        "b"
      ],
      "metadata": {
        "colab": {
          "base_uri": "https://localhost:8080/"
        },
        "id": "n3KUo4Ikvgqk",
        "outputId": "3599e9b2-3e4d-42c7-f1bc-deb38f56c3ad"
      },
      "execution_count": null,
      "outputs": [
        {
          "output_type": "execute_result",
          "data": {
            "text/plain": [
              "[1, 2, 3]"
            ]
          },
          "metadata": {},
          "execution_count": 17
        }
      ]
    },
    {
      "cell_type": "code",
      "source": [
        "a.append(4)"
      ],
      "metadata": {
        "id": "oIrWMm7Cvi9p"
      },
      "execution_count": null,
      "outputs": []
    },
    {
      "cell_type": "code",
      "source": [
        "b"
      ],
      "metadata": {
        "colab": {
          "base_uri": "https://localhost:8080/"
        },
        "id": "qyqFft1gvnHQ",
        "outputId": "09a95288-3844-440a-94d6-c841d36cf9ba"
      },
      "execution_count": null,
      "outputs": [
        {
          "output_type": "execute_result",
          "data": {
            "text/plain": [
              "[1, 2, 3, 4]"
            ]
          },
          "metadata": {},
          "execution_count": 19
        }
      ]
    },
    {
      "cell_type": "code",
      "source": [
        "def append_element(some_list, element):\n",
        "    some_list.append(element)"
      ],
      "metadata": {
        "id": "kugHb9jQvsZj"
      },
      "execution_count": null,
      "outputs": []
    },
    {
      "cell_type": "code",
      "source": [
        "data = [1, 2, 3]"
      ],
      "metadata": {
        "id": "8w-u8Alyv1fU"
      },
      "execution_count": null,
      "outputs": []
    },
    {
      "cell_type": "code",
      "source": [
        "append_element(data, 4)"
      ],
      "metadata": {
        "id": "bnb7entOv44f"
      },
      "execution_count": null,
      "outputs": []
    },
    {
      "cell_type": "code",
      "source": [
        "data"
      ],
      "metadata": {
        "colab": {
          "base_uri": "https://localhost:8080/"
        },
        "id": "dKDqDidTv7at",
        "outputId": "cb19416c-b5f0-4d7e-c825-5822a37e7d61"
      },
      "execution_count": null,
      "outputs": [
        {
          "output_type": "execute_result",
          "data": {
            "text/plain": [
              "[1, 2, 3, 4]"
            ]
          },
          "metadata": {},
          "execution_count": 25
        }
      ]
    },
    {
      "cell_type": "markdown",
      "source": [
        "Dynamic references, strong types"
      ],
      "metadata": {
        "id": "BrSGkXrOv9vQ"
      }
    },
    {
      "cell_type": "code",
      "source": [
        "a = 5"
      ],
      "metadata": {
        "id": "RyIGabruwAls"
      },
      "execution_count": null,
      "outputs": []
    },
    {
      "cell_type": "code",
      "source": [
        "type(a)"
      ],
      "metadata": {
        "colab": {
          "base_uri": "https://localhost:8080/"
        },
        "id": "N72JTu_RwCnp",
        "outputId": "2612a0d1-9079-48fa-b131-de1a18719877"
      },
      "execution_count": null,
      "outputs": [
        {
          "output_type": "execute_result",
          "data": {
            "text/plain": [
              "int"
            ]
          },
          "metadata": {},
          "execution_count": 27
        }
      ]
    },
    {
      "cell_type": "code",
      "source": [
        "a = \"foo\""
      ],
      "metadata": {
        "id": "37vCKnjQwFXL"
      },
      "execution_count": null,
      "outputs": []
    },
    {
      "cell_type": "code",
      "source": [
        "type(a)"
      ],
      "metadata": {
        "colab": {
          "base_uri": "https://localhost:8080/"
        },
        "id": "Hy0HHnpHwIL6",
        "outputId": "2575cfa5-4867-4173-c005-cc3ba9e5403b"
      },
      "execution_count": null,
      "outputs": [
        {
          "output_type": "execute_result",
          "data": {
            "text/plain": [
              "str"
            ]
          },
          "metadata": {},
          "execution_count": 29
        }
      ]
    },
    {
      "cell_type": "code",
      "source": [
        "\"5\" + 5"
      ],
      "metadata": {
        "colab": {
          "base_uri": "https://localhost:8080/",
          "height": 144
        },
        "id": "Dg6BBLotwMxa",
        "outputId": "ba9309a0-d315-4ff8-e3d3-f30ca3b07958"
      },
      "execution_count": null,
      "outputs": [
        {
          "output_type": "error",
          "ename": "TypeError",
          "evalue": "can only concatenate str (not \"int\") to str",
          "traceback": [
            "\u001b[0;31m---------------------------------------------------------------------------\u001b[0m",
            "\u001b[0;31mTypeError\u001b[0m                                 Traceback (most recent call last)",
            "\u001b[0;32m/tmp/ipython-input-30-4107985378.py\u001b[0m in \u001b[0;36m<cell line: 0>\u001b[0;34m()\u001b[0m\n\u001b[0;32m----> 1\u001b[0;31m \u001b[0;34m\"5\"\u001b[0m \u001b[0;34m+\u001b[0m \u001b[0;36m5\u001b[0m\u001b[0;34m\u001b[0m\u001b[0;34m\u001b[0m\u001b[0m\n\u001b[0m",
            "\u001b[0;31mTypeError\u001b[0m: can only concatenate str (not \"int\") to str"
          ]
        }
      ]
    },
    {
      "cell_type": "code",
      "source": [
        "a = 4.5"
      ],
      "metadata": {
        "id": "HW8FjGr7wSos"
      },
      "execution_count": null,
      "outputs": []
    },
    {
      "cell_type": "code",
      "source": [
        "b = 2"
      ],
      "metadata": {
        "id": "Z-z3YxO8wVKY"
      },
      "execution_count": null,
      "outputs": []
    },
    {
      "cell_type": "code",
      "source": [
        "print(f\"a is {type(a)}, b is {type(b)}\")"
      ],
      "metadata": {
        "colab": {
          "base_uri": "https://localhost:8080/"
        },
        "id": "JojvjI84wX4V",
        "outputId": "97d1bea5-a8c7-4222-d805-d0da24adb44d"
      },
      "execution_count": null,
      "outputs": [
        {
          "output_type": "stream",
          "name": "stdout",
          "text": [
            "a is <class 'float'>, b is <class 'int'>\n"
          ]
        }
      ]
    },
    {
      "cell_type": "code",
      "source": [
        "a / b"
      ],
      "metadata": {
        "colab": {
          "base_uri": "https://localhost:8080/"
        },
        "id": "lDB81ESXwp_m",
        "outputId": "ef8298e4-c1ba-4f5e-a2a1-eed319710416"
      },
      "execution_count": null,
      "outputs": [
        {
          "output_type": "execute_result",
          "data": {
            "text/plain": [
              "2.25"
            ]
          },
          "metadata": {},
          "execution_count": 34
        }
      ]
    },
    {
      "cell_type": "code",
      "source": [
        "a = 5"
      ],
      "metadata": {
        "id": "tv1HHPcLwsIH"
      },
      "execution_count": null,
      "outputs": []
    },
    {
      "cell_type": "code",
      "source": [
        "isinstance(a, int)"
      ],
      "metadata": {
        "colab": {
          "base_uri": "https://localhost:8080/"
        },
        "id": "EpvLHPU_wuVN",
        "outputId": "a1a0feeb-15df-4c57-a07b-f723b325cd7e"
      },
      "execution_count": null,
      "outputs": [
        {
          "output_type": "execute_result",
          "data": {
            "text/plain": [
              "True"
            ]
          },
          "metadata": {},
          "execution_count": 36
        }
      ]
    },
    {
      "cell_type": "code",
      "source": [
        "a = 5; b = 4.5"
      ],
      "metadata": {
        "id": "xLIcdgaXwxZ2"
      },
      "execution_count": null,
      "outputs": []
    },
    {
      "cell_type": "code",
      "source": [
        "isinstance(a, (int, float))"
      ],
      "metadata": {
        "id": "LCVWfoOhw0zi",
        "outputId": "e8a9e3a8-ec15-4663-aba5-128e329034c3",
        "colab": {
          "base_uri": "https://localhost:8080/"
        }
      },
      "execution_count": null,
      "outputs": [
        {
          "output_type": "execute_result",
          "data": {
            "text/plain": [
              "True"
            ]
          },
          "metadata": {},
          "execution_count": 38
        }
      ]
    },
    {
      "cell_type": "code",
      "source": [
        "isinstance(b, (int, float))"
      ],
      "metadata": {
        "id": "11ZFn4mew4_g",
        "outputId": "45a5d757-31cb-45f0-fa2e-ca44553bd515",
        "colab": {
          "base_uri": "https://localhost:8080/"
        }
      },
      "execution_count": null,
      "outputs": [
        {
          "output_type": "execute_result",
          "data": {
            "text/plain": [
              "True"
            ]
          },
          "metadata": {},
          "execution_count": 39
        }
      ]
    },
    {
      "cell_type": "markdown",
      "metadata": {
        "id": "z3uRChQvR9-G"
      },
      "source": [
        "## Problem 3"
      ]
    },
    {
      "cell_type": "markdown",
      "metadata": {
        "id": "cg116ytFR9-G"
      },
      "source": [
        "#### In this problem, you will type out the input lines (under the headings) in the Language Semantics section (in Section 2.3 Python Language Basics) - Imports; Binary operators and comparisons"
      ]
    },
    {
      "cell_type": "code",
      "execution_count": null,
      "metadata": {
        "scrolled": false,
        "id": "0BYuhRlqR9-G"
      },
      "outputs": [],
      "source": [
        "# Type code below"
      ]
    },
    {
      "cell_type": "markdown",
      "source": [
        "The imports section requires using another file did not do it."
      ],
      "metadata": {
        "id": "ahgwZ5nw1-9w"
      }
    },
    {
      "cell_type": "code",
      "source": [
        "5 - 7"
      ],
      "metadata": {
        "colab": {
          "base_uri": "https://localhost:8080/"
        },
        "id": "E2Dho55g1rBc",
        "outputId": "7a523844-87e9-4059-bbd2-3c45b43e0a25"
      },
      "execution_count": 46,
      "outputs": [
        {
          "output_type": "execute_result",
          "data": {
            "text/plain": [
              "-2"
            ]
          },
          "metadata": {},
          "execution_count": 46
        }
      ]
    },
    {
      "cell_type": "code",
      "source": [
        "12 + 21.5"
      ],
      "metadata": {
        "colab": {
          "base_uri": "https://localhost:8080/"
        },
        "id": "M3XtWXYY1Gw5",
        "outputId": "90454386-02c7-4d44-9147-241fc75b1154"
      },
      "execution_count": 47,
      "outputs": [
        {
          "output_type": "execute_result",
          "data": {
            "text/plain": [
              "33.5"
            ]
          },
          "metadata": {},
          "execution_count": 47
        }
      ]
    },
    {
      "cell_type": "code",
      "source": [
        "5 <= 2"
      ],
      "metadata": {
        "colab": {
          "base_uri": "https://localhost:8080/"
        },
        "id": "fH5o7Iu61LMd",
        "outputId": "28d3ba1b-84f6-4a2f-c3b7-0e51647e143a"
      },
      "execution_count": 48,
      "outputs": [
        {
          "output_type": "execute_result",
          "data": {
            "text/plain": [
              "False"
            ]
          },
          "metadata": {},
          "execution_count": 48
        }
      ]
    },
    {
      "cell_type": "code",
      "source": [
        "a = [1, 2, 3]"
      ],
      "metadata": {
        "id": "cIBItEZV2Psz"
      },
      "execution_count": 49,
      "outputs": []
    },
    {
      "cell_type": "code",
      "source": [
        "b = a"
      ],
      "metadata": {
        "id": "yAi9czB-2Pop"
      },
      "execution_count": 50,
      "outputs": []
    },
    {
      "cell_type": "code",
      "source": [
        "c = list(a)"
      ],
      "metadata": {
        "id": "AncaPLim2PhH"
      },
      "execution_count": 51,
      "outputs": []
    },
    {
      "cell_type": "code",
      "source": [
        "a is b"
      ],
      "metadata": {
        "colab": {
          "base_uri": "https://localhost:8080/"
        },
        "id": "IBtcgbTV2PWd",
        "outputId": "4d2d5c96-6ec9-4f9f-cf29-e506769679e5"
      },
      "execution_count": 52,
      "outputs": [
        {
          "output_type": "execute_result",
          "data": {
            "text/plain": [
              "True"
            ]
          },
          "metadata": {},
          "execution_count": 52
        }
      ]
    },
    {
      "cell_type": "code",
      "source": [
        "a is not c"
      ],
      "metadata": {
        "colab": {
          "base_uri": "https://localhost:8080/"
        },
        "id": "6H-vVXPD2adG",
        "outputId": "d6d970f8-31bf-4fb9-b864-a0de754b12f5"
      },
      "execution_count": 53,
      "outputs": [
        {
          "output_type": "execute_result",
          "data": {
            "text/plain": [
              "True"
            ]
          },
          "metadata": {},
          "execution_count": 53
        }
      ]
    },
    {
      "cell_type": "code",
      "source": [
        "a == c"
      ],
      "metadata": {
        "colab": {
          "base_uri": "https://localhost:8080/"
        },
        "id": "_dSbyKW42dsa",
        "outputId": "6423a0a4-fd7e-4fc5-feb9-235601fe6438"
      },
      "execution_count": 54,
      "outputs": [
        {
          "output_type": "execute_result",
          "data": {
            "text/plain": [
              "True"
            ]
          },
          "metadata": {},
          "execution_count": 54
        }
      ]
    },
    {
      "cell_type": "code",
      "source": [
        "a = None"
      ],
      "metadata": {
        "id": "Q_3aZ8592o7R"
      },
      "execution_count": 55,
      "outputs": []
    },
    {
      "cell_type": "code",
      "source": [
        "a is None"
      ],
      "metadata": {
        "colab": {
          "base_uri": "https://localhost:8080/"
        },
        "id": "di0UZx4z2r0L",
        "outputId": "7dfc4f7c-c8ab-4873-e91f-0c8a3d3001d2"
      },
      "execution_count": 56,
      "outputs": [
        {
          "output_type": "execute_result",
          "data": {
            "text/plain": [
              "True"
            ]
          },
          "metadata": {},
          "execution_count": 56
        }
      ]
    },
    {
      "cell_type": "markdown",
      "metadata": {
        "id": "HxKMYdWLR9-G"
      },
      "source": [
        "## Problem 4"
      ]
    },
    {
      "cell_type": "markdown",
      "metadata": {
        "id": "zN48JON4R9-G"
      },
      "source": [
        "#### In this problem, you will type out the input lines (under the headings) in the Language Semantics section (in Section 2.3 Python Language Basics) - Mutable and immutable objects."
      ]
    },
    {
      "cell_type": "code",
      "execution_count": null,
      "metadata": {
        "id": "bRNzco3bR9-G"
      },
      "outputs": [],
      "source": [
        "# Type code below"
      ]
    },
    {
      "cell_type": "code",
      "source": [
        "a_list = [\"foo\", 2, [4, 5]]"
      ],
      "metadata": {
        "id": "ux-hC7vi24oD"
      },
      "execution_count": 57,
      "outputs": []
    },
    {
      "cell_type": "code",
      "source": [
        "a_list[2] = (3, 4)"
      ],
      "metadata": {
        "id": "XXoWBbyx2-VM"
      },
      "execution_count": 58,
      "outputs": []
    },
    {
      "cell_type": "code",
      "source": [
        "a_list"
      ],
      "metadata": {
        "colab": {
          "base_uri": "https://localhost:8080/"
        },
        "id": "uXOjhEqZ3BqY",
        "outputId": "b1dd6243-27a6-4458-bb98-d0fc37d78de9"
      },
      "execution_count": 59,
      "outputs": [
        {
          "output_type": "execute_result",
          "data": {
            "text/plain": [
              "['foo', 2, (3, 4)]"
            ]
          },
          "metadata": {},
          "execution_count": 59
        }
      ]
    },
    {
      "cell_type": "code",
      "source": [
        "a_tuple = (3, 5, (4, 5))"
      ],
      "metadata": {
        "id": "NDbf5hfG3E92"
      },
      "execution_count": 60,
      "outputs": []
    },
    {
      "cell_type": "code",
      "source": [
        "a_tuple[1] = \"four\""
      ],
      "metadata": {
        "colab": {
          "base_uri": "https://localhost:8080/",
          "height": 144
        },
        "id": "JGusRNSp3IZ5",
        "outputId": "4d8f3aee-563f-4d11-85f5-08b43744ad48"
      },
      "execution_count": 61,
      "outputs": [
        {
          "output_type": "error",
          "ename": "TypeError",
          "evalue": "'tuple' object does not support item assignment",
          "traceback": [
            "\u001b[0;31m---------------------------------------------------------------------------\u001b[0m",
            "\u001b[0;31mTypeError\u001b[0m                                 Traceback (most recent call last)",
            "\u001b[0;32m/tmp/ipython-input-61-1228245352.py\u001b[0m in \u001b[0;36m<cell line: 0>\u001b[0;34m()\u001b[0m\n\u001b[0;32m----> 1\u001b[0;31m \u001b[0ma_tuple\u001b[0m\u001b[0;34m[\u001b[0m\u001b[0;36m1\u001b[0m\u001b[0;34m]\u001b[0m \u001b[0;34m=\u001b[0m \u001b[0;34m\"four\"\u001b[0m\u001b[0;34m\u001b[0m\u001b[0;34m\u001b[0m\u001b[0m\n\u001b[0m",
            "\u001b[0;31mTypeError\u001b[0m: 'tuple' object does not support item assignment"
          ]
        }
      ]
    },
    {
      "cell_type": "markdown",
      "metadata": {
        "id": "-awK_GBER9-G"
      },
      "source": [
        "## Problem 5"
      ]
    },
    {
      "cell_type": "markdown",
      "metadata": {
        "id": "mAR7PWkhR9-G"
      },
      "source": [
        "#### In this problem, you will type out the input lines (under the headings) in the Scalar Types section (in Section 2.3 Python Language Basics) - Numeric types; Strings."
      ]
    },
    {
      "cell_type": "code",
      "execution_count": null,
      "metadata": {
        "id": "VkGjqwDgR9-G"
      },
      "outputs": [],
      "source": [
        "# Type code below"
      ]
    },
    {
      "cell_type": "code",
      "source": [
        "ival = 17239871"
      ],
      "metadata": {
        "id": "_5LUsygHAaJU"
      },
      "execution_count": 62,
      "outputs": []
    },
    {
      "cell_type": "code",
      "source": [
        "ival ** 6"
      ],
      "metadata": {
        "colab": {
          "base_uri": "https://localhost:8080/"
        },
        "id": "7X8KwVzbAncD",
        "outputId": "6f1e95c6-c600-4ed5-d442-8560914b0006"
      },
      "execution_count": 63,
      "outputs": [
        {
          "output_type": "execute_result",
          "data": {
            "text/plain": [
              "26254519291092456596965462913230729701102721"
            ]
          },
          "metadata": {},
          "execution_count": 63
        }
      ]
    },
    {
      "cell_type": "code",
      "source": [
        "fval = 7.243"
      ],
      "metadata": {
        "id": "xF5Is9AvAqTV"
      },
      "execution_count": 64,
      "outputs": []
    },
    {
      "cell_type": "code",
      "source": [
        "fval2 = 6.78e-5"
      ],
      "metadata": {
        "id": "p4jo0lWiAxuW"
      },
      "execution_count": 65,
      "outputs": []
    },
    {
      "cell_type": "code",
      "source": [
        "3 / 2"
      ],
      "metadata": {
        "colab": {
          "base_uri": "https://localhost:8080/"
        },
        "id": "R5tSYLWqA4Bg",
        "outputId": "c6c77992-7b2f-4f19-9609-0aed2f2ed2bd"
      },
      "execution_count": 66,
      "outputs": [
        {
          "output_type": "execute_result",
          "data": {
            "text/plain": [
              "1.5"
            ]
          },
          "metadata": {},
          "execution_count": 66
        }
      ]
    },
    {
      "cell_type": "code",
      "source": [
        "3 // 2"
      ],
      "metadata": {
        "colab": {
          "base_uri": "https://localhost:8080/"
        },
        "id": "J-hhC8WyA7HI",
        "outputId": "98274751-e8d0-47c6-d803-a99f8e6d164d"
      },
      "execution_count": 67,
      "outputs": [
        {
          "output_type": "execute_result",
          "data": {
            "text/plain": [
              "1"
            ]
          },
          "metadata": {},
          "execution_count": 67
        }
      ]
    },
    {
      "cell_type": "code",
      "source": [
        "a = 'one way of writing a string'"
      ],
      "metadata": {
        "id": "JlwrZ7hRBD0s"
      },
      "execution_count": 68,
      "outputs": []
    },
    {
      "cell_type": "code",
      "source": [
        "b = \"another way\""
      ],
      "metadata": {
        "id": "9QvJL-lpBIET"
      },
      "execution_count": 69,
      "outputs": []
    },
    {
      "cell_type": "code",
      "source": [
        "c = \"\"\"\n",
        "This is a longer string that\n",
        "spans multiple lines\n",
        "\"\"\""
      ],
      "metadata": {
        "id": "QHUlV5hYDO1l"
      },
      "execution_count": 71,
      "outputs": []
    },
    {
      "cell_type": "code",
      "source": [
        "c.count(\"\\n\")"
      ],
      "metadata": {
        "colab": {
          "base_uri": "https://localhost:8080/"
        },
        "id": "-TESQZD7BLjy",
        "outputId": "88772e6e-520b-44e0-b162-c1d6d4329577"
      },
      "execution_count": 72,
      "outputs": [
        {
          "output_type": "execute_result",
          "data": {
            "text/plain": [
              "3"
            ]
          },
          "metadata": {},
          "execution_count": 72
        }
      ]
    },
    {
      "cell_type": "code",
      "source": [
        "a = \"this is a string\""
      ],
      "metadata": {
        "id": "HyUic84wDRYD"
      },
      "execution_count": 73,
      "outputs": []
    },
    {
      "cell_type": "code",
      "source": [
        " a[10] = \"f\""
      ],
      "metadata": {
        "colab": {
          "base_uri": "https://localhost:8080/",
          "height": 144
        },
        "id": "lXTGPTx4DU6X",
        "outputId": "5a57ec9c-9e0d-455b-d659-4b78eac74147"
      },
      "execution_count": 74,
      "outputs": [
        {
          "output_type": "error",
          "ename": "TypeError",
          "evalue": "'str' object does not support item assignment",
          "traceback": [
            "\u001b[0;31m---------------------------------------------------------------------------\u001b[0m",
            "\u001b[0;31mTypeError\u001b[0m                                 Traceback (most recent call last)",
            "\u001b[0;32m/tmp/ipython-input-74-2299801752.py\u001b[0m in \u001b[0;36m<cell line: 0>\u001b[0;34m()\u001b[0m\n\u001b[0;32m----> 1\u001b[0;31m \u001b[0ma\u001b[0m\u001b[0;34m[\u001b[0m\u001b[0;36m10\u001b[0m\u001b[0;34m]\u001b[0m \u001b[0;34m=\u001b[0m \u001b[0;34m\"f\"\u001b[0m\u001b[0;34m\u001b[0m\u001b[0;34m\u001b[0m\u001b[0m\n\u001b[0m",
            "\u001b[0;31mTypeError\u001b[0m: 'str' object does not support item assignment"
          ]
        }
      ]
    },
    {
      "cell_type": "code",
      "source": [
        "b = a.replace(\"string\", \"longer string\")"
      ],
      "metadata": {
        "id": "-56fE6k0DX0V"
      },
      "execution_count": 75,
      "outputs": []
    },
    {
      "cell_type": "code",
      "source": [
        "b"
      ],
      "metadata": {
        "colab": {
          "base_uri": "https://localhost:8080/",
          "height": 35
        },
        "id": "1HeaeqxFDaup",
        "outputId": "19d6e155-7298-4054-80b2-40274614b179"
      },
      "execution_count": 76,
      "outputs": [
        {
          "output_type": "execute_result",
          "data": {
            "text/plain": [
              "'this is a longer string'"
            ],
            "application/vnd.google.colaboratory.intrinsic+json": {
              "type": "string"
            }
          },
          "metadata": {},
          "execution_count": 76
        }
      ]
    },
    {
      "cell_type": "code",
      "source": [
        "a"
      ],
      "metadata": {
        "colab": {
          "base_uri": "https://localhost:8080/",
          "height": 35
        },
        "id": "EraHLas1DcYN",
        "outputId": "0fec56ca-350e-4613-f4ef-e0648456bdc1"
      },
      "execution_count": 77,
      "outputs": [
        {
          "output_type": "execute_result",
          "data": {
            "text/plain": [
              "'this is a string'"
            ],
            "application/vnd.google.colaboratory.intrinsic+json": {
              "type": "string"
            }
          },
          "metadata": {},
          "execution_count": 77
        }
      ]
    },
    {
      "cell_type": "code",
      "source": [
        "a = 5.6"
      ],
      "metadata": {
        "id": "JwCudtnvDfXp"
      },
      "execution_count": 78,
      "outputs": []
    },
    {
      "cell_type": "code",
      "source": [
        "s = str(a)"
      ],
      "metadata": {
        "id": "ui211NC7DfUg"
      },
      "execution_count": 80,
      "outputs": []
    },
    {
      "cell_type": "code",
      "source": [
        "print(s)"
      ],
      "metadata": {
        "colab": {
          "base_uri": "https://localhost:8080/"
        },
        "id": "Fnm0ZMKuDfRX",
        "outputId": "6aa43099-8bb5-466a-e399-5bae1b6cd1cb"
      },
      "execution_count": 81,
      "outputs": [
        {
          "output_type": "stream",
          "name": "stdout",
          "text": [
            "5.6\n"
          ]
        }
      ]
    },
    {
      "cell_type": "code",
      "source": [
        "s = \"python\""
      ],
      "metadata": {
        "id": "gipR5HzFDfN_"
      },
      "execution_count": 82,
      "outputs": []
    },
    {
      "cell_type": "code",
      "source": [
        "list(s)"
      ],
      "metadata": {
        "colab": {
          "base_uri": "https://localhost:8080/"
        },
        "id": "YfKgrB_VDfK3",
        "outputId": "618380d4-af80-4a27-e25c-00c99d1cf269"
      },
      "execution_count": 83,
      "outputs": [
        {
          "output_type": "execute_result",
          "data": {
            "text/plain": [
              "['p', 'y', 't', 'h', 'o', 'n']"
            ]
          },
          "metadata": {},
          "execution_count": 83
        }
      ]
    },
    {
      "cell_type": "code",
      "source": [
        "s[:3]"
      ],
      "metadata": {
        "colab": {
          "base_uri": "https://localhost:8080/",
          "height": 35
        },
        "id": "kXESBsfmDfHj",
        "outputId": "31af7dee-ab89-494a-c0f3-c6f34031b4ef"
      },
      "execution_count": 84,
      "outputs": [
        {
          "output_type": "execute_result",
          "data": {
            "text/plain": [
              "'pyt'"
            ],
            "application/vnd.google.colaboratory.intrinsic+json": {
              "type": "string"
            }
          },
          "metadata": {},
          "execution_count": 84
        }
      ]
    },
    {
      "cell_type": "code",
      "source": [
        "s = \"12\\\\34\""
      ],
      "metadata": {
        "id": "XvJMG1zgDfD4"
      },
      "execution_count": 85,
      "outputs": []
    },
    {
      "cell_type": "code",
      "source": [
        "print(s)"
      ],
      "metadata": {
        "colab": {
          "base_uri": "https://localhost:8080/"
        },
        "id": "HHzoBqQoDe3X",
        "outputId": "3b08635f-42fc-4354-a439-bfa5fc0857cc"
      },
      "execution_count": 87,
      "outputs": [
        {
          "output_type": "stream",
          "name": "stdout",
          "text": [
            "12\\34\n"
          ]
        }
      ]
    },
    {
      "cell_type": "code",
      "source": [
        "a = \"this is the first half \""
      ],
      "metadata": {
        "id": "0i1vIxehD4qH"
      },
      "execution_count": 88,
      "outputs": []
    },
    {
      "cell_type": "code",
      "source": [
        "b = \"and this is the second half\""
      ],
      "metadata": {
        "id": "woF6scTFD4m9"
      },
      "execution_count": 89,
      "outputs": []
    },
    {
      "cell_type": "code",
      "source": [
        "a + b"
      ],
      "metadata": {
        "colab": {
          "base_uri": "https://localhost:8080/",
          "height": 35
        },
        "id": "JHxK_0TdD4jn",
        "outputId": "6ea69a3b-c1fd-4b22-f844-a86e890e06a2"
      },
      "execution_count": 90,
      "outputs": [
        {
          "output_type": "execute_result",
          "data": {
            "text/plain": [
              "'this is the first half and this is the second half'"
            ],
            "application/vnd.google.colaboratory.intrinsic+json": {
              "type": "string"
            }
          },
          "metadata": {},
          "execution_count": 90
        }
      ]
    },
    {
      "cell_type": "code",
      "source": [
        "template = \"{0:.2f} {1:s} are worth US${2:d}\""
      ],
      "metadata": {
        "id": "IKYo0sJCD4gT"
      },
      "execution_count": 91,
      "outputs": []
    },
    {
      "cell_type": "code",
      "source": [
        "template.format(88.46, \"Argentine Pesos\", 1)"
      ],
      "metadata": {
        "colab": {
          "base_uri": "https://localhost:8080/",
          "height": 35
        },
        "id": "vsNAihhjD4ck",
        "outputId": "360d5450-0923-4d51-d1b8-269cd27c2fea"
      },
      "execution_count": 92,
      "outputs": [
        {
          "output_type": "execute_result",
          "data": {
            "text/plain": [
              "'88.46 Argentine Pesos are worth US$1'"
            ],
            "application/vnd.google.colaboratory.intrinsic+json": {
              "type": "string"
            }
          },
          "metadata": {},
          "execution_count": 92
        }
      ]
    },
    {
      "cell_type": "code",
      "source": [
        "amount = 10"
      ],
      "metadata": {
        "id": "VzbAI3iKD4WD"
      },
      "execution_count": 93,
      "outputs": []
    },
    {
      "cell_type": "code",
      "source": [
        "rate = 88.46"
      ],
      "metadata": {
        "id": "LCQwxMP3EJYs"
      },
      "execution_count": 94,
      "outputs": []
    },
    {
      "cell_type": "code",
      "source": [
        "currency = \"Pesos\""
      ],
      "metadata": {
        "id": "w5MGYlowEJWE"
      },
      "execution_count": 95,
      "outputs": []
    },
    {
      "cell_type": "code",
      "source": [
        "result = f\"{amount} {currency} is worth US${amount / rate}\""
      ],
      "metadata": {
        "id": "D85gJhxLEJTO"
      },
      "execution_count": 96,
      "outputs": []
    },
    {
      "cell_type": "code",
      "source": [
        "f\"{amount} {currency} is worth US${amount / rate:.2f}\""
      ],
      "metadata": {
        "colab": {
          "base_uri": "https://localhost:8080/",
          "height": 35
        },
        "id": "4pHUj2woEJP1",
        "outputId": "36cebfe4-2432-44b8-88d4-53a71ed70ad4"
      },
      "execution_count": 97,
      "outputs": [
        {
          "output_type": "execute_result",
          "data": {
            "text/plain": [
              "'10 Pesos is worth US$0.11'"
            ],
            "application/vnd.google.colaboratory.intrinsic+json": {
              "type": "string"
            }
          },
          "metadata": {},
          "execution_count": 97
        }
      ]
    },
    {
      "cell_type": "markdown",
      "metadata": {
        "id": "fMCideHQR9-G"
      },
      "source": [
        "## Problem 6"
      ]
    },
    {
      "cell_type": "markdown",
      "metadata": {
        "id": "2DDNJLrvR9-H"
      },
      "source": [
        "#### In this problem, you will type out the input lines (under the headings) in the Scalar Types section (in Section 2.3 Python Language Basics) - Bytes and Unicode; Booleans."
      ]
    },
    {
      "cell_type": "code",
      "execution_count": null,
      "metadata": {
        "scrolled": true,
        "id": "gWGqIy3jR9-H"
      },
      "outputs": [],
      "source": [
        "# Type code below"
      ]
    },
    {
      "cell_type": "markdown",
      "metadata": {
        "id": "0zwPgYAyR9-H"
      },
      "source": [
        "## Problem 7"
      ]
    },
    {
      "cell_type": "markdown",
      "metadata": {
        "id": "GRVmmhRTR9-H"
      },
      "source": [
        "#### In this problem, you will type out the input lines (under the headings) in the Scalar Types section (in Section 2.3 Python Language Basics) - Dates and times."
      ]
    },
    {
      "cell_type": "code",
      "execution_count": null,
      "metadata": {
        "scrolled": true,
        "id": "wllSV5AhR9-H"
      },
      "outputs": [],
      "source": [
        "# Type code below"
      ]
    },
    {
      "cell_type": "markdown",
      "metadata": {
        "id": "tbRf_KvQR9-H"
      },
      "source": [
        "## Problem 8"
      ]
    },
    {
      "cell_type": "markdown",
      "metadata": {
        "id": "ltUroJmAR9-H"
      },
      "source": [
        "#### In this problem, you will type out the input lines (under the headings) in the Control Flow section (in Section 2.3 Python Language Basics) - if, elif, and else."
      ]
    },
    {
      "cell_type": "code",
      "execution_count": null,
      "metadata": {
        "scrolled": true,
        "id": "P5W2dwYER9-H"
      },
      "outputs": [],
      "source": [
        "# Type code below"
      ]
    },
    {
      "cell_type": "markdown",
      "metadata": {
        "id": "QfTj3vqmR9-H"
      },
      "source": [
        "## Problem 9"
      ]
    },
    {
      "cell_type": "markdown",
      "metadata": {
        "id": "Yg9dZOq2R9-H"
      },
      "source": [
        "#### In this problem, you will type out the input lines (under the headings) in the Control Flow section (in Section 2.3 Python Language Basics) - for loops."
      ]
    },
    {
      "cell_type": "code",
      "execution_count": null,
      "metadata": {
        "scrolled": true,
        "id": "DdAD5m6DR9-H"
      },
      "outputs": [],
      "source": [
        "# Type code below"
      ]
    },
    {
      "cell_type": "markdown",
      "metadata": {
        "id": "ZX2RH9jpR9-H"
      },
      "source": [
        "## Problem 10"
      ]
    },
    {
      "cell_type": "markdown",
      "metadata": {
        "id": "XUmHHdIyR9-H"
      },
      "source": [
        "#### EDIT - In this problem, you will type out the input lines (under the headings) in the Control Flow section (in Section 2.3 Python Language Basics) - while loops."
      ]
    },
    {
      "cell_type": "code",
      "execution_count": null,
      "metadata": {
        "scrolled": true,
        "id": "Q9cX-bayR9-H"
      },
      "outputs": [],
      "source": [
        "# Type code below"
      ]
    }
  ],
  "metadata": {
    "kernelspec": {
      "display_name": "Python 3 (ipykernel)",
      "language": "python",
      "name": "python3"
    },
    "language_info": {
      "codemirror_mode": {
        "name": "ipython",
        "version": 3
      },
      "file_extension": ".py",
      "mimetype": "text/x-python",
      "name": "python",
      "nbconvert_exporter": "python",
      "pygments_lexer": "ipython3",
      "version": "3.11.4"
    },
    "colab": {
      "provenance": [],
      "include_colab_link": true
    }
  },
  "nbformat": 4,
  "nbformat_minor": 0
}