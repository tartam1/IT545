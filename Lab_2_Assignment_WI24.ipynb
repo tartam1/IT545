{
  "cells": [
    {
      "cell_type": "markdown",
      "metadata": {
        "id": "view-in-github",
        "colab_type": "text"
      },
      "source": [
        "<a href=\"https://colab.research.google.com/github/tartam1/IT545/blob/main/Lab_2_Assignment_WI24.ipynb\" target=\"_parent\"><img src=\"https://colab.research.google.com/assets/colab-badge.svg\" alt=\"Open In Colab\"/></a>"
      ]
    },
    {
      "cell_type": "markdown",
      "metadata": {
        "id": "kWqIXP18SvEP"
      },
      "source": [
        "# Lab Assignment 2"
      ]
    },
    {
      "cell_type": "markdown",
      "metadata": {
        "id": "cklbjc4pSvEQ"
      },
      "source": [
        "## Chapter 3 - Built-in Data Structures, Functions, and Files\n",
        "## Chapter 4 - NumPy Basics: Arrays and Vectorized Computation"
      ]
    },
    {
      "cell_type": "code",
      "execution_count": 1,
      "metadata": {
        "id": "DBVNQllESvEQ"
      },
      "outputs": [],
      "source": [
        "# Import Series and DataFrame into local namespace\n",
        "import numpy as np\n",
        "import pandas as pd\n",
        "from pandas import Series, DataFrame"
      ]
    },
    {
      "cell_type": "markdown",
      "metadata": {
        "id": "evHSfIu7SvER"
      },
      "source": [
        "## Problem 1"
      ]
    },
    {
      "cell_type": "markdown",
      "metadata": {
        "id": "zmbVuruaSvER"
      },
      "source": [
        "#### In this problem, please type out the code (in separate cells) under the Tuple heading (stop before List heading) in Section 3.1 Data Structures and Sequences (chapter 3 of textbook)."
      ]
    },
    {
      "cell_type": "code",
      "execution_count": null,
      "metadata": {
        "id": "znVuRw9pSvER"
      },
      "outputs": [],
      "source": [
        "# Type code below"
      ]
    },
    {
      "cell_type": "code",
      "source": [
        "# Exploring the Tuple data structure in Python\n",
        "tup = 4, 5, 6\n",
        "tup"
      ],
      "metadata": {
        "colab": {
          "base_uri": "https://localhost:8080/"
        },
        "id": "bz7PlRjOVU__",
        "outputId": "4bae56d0-dab9-4ae7-fccf-a84acef3f660"
      },
      "execution_count": 2,
      "outputs": [
        {
          "output_type": "execute_result",
          "data": {
            "text/plain": [
              "(4, 5, 6)"
            ]
          },
          "metadata": {},
          "execution_count": 2
        }
      ]
    },
    {
      "cell_type": "code",
      "source": [
        "# No parentheses option\n",
        "tup = (4, 5, 6)\n",
        "tup"
      ],
      "metadata": {
        "colab": {
          "base_uri": "https://localhost:8080/"
        },
        "id": "VSiWiOT5ViiI",
        "outputId": "7bf9c0a7-207b-44e4-ebe6-ca0b4166879d"
      },
      "execution_count": 3,
      "outputs": [
        {
          "output_type": "execute_result",
          "data": {
            "text/plain": [
              "(4, 5, 6)"
            ]
          },
          "metadata": {},
          "execution_count": 3
        }
      ]
    },
    {
      "cell_type": "code",
      "source": [
        "# Convert to a tuple\n",
        "tuple([4, 0, 2])"
      ],
      "metadata": {
        "colab": {
          "base_uri": "https://localhost:8080/"
        },
        "id": "Tsa_oqWkVrbD",
        "outputId": "1bcf4995-ce06-4527-8279-554fa5bdc4b3"
      },
      "execution_count": 5,
      "outputs": [
        {
          "output_type": "execute_result",
          "data": {
            "text/plain": [
              "(4, 0, 2)"
            ]
          },
          "metadata": {},
          "execution_count": 5
        }
      ]
    },
    {
      "cell_type": "code",
      "source": [
        "tup = tuple('string')\n",
        "tup"
      ],
      "metadata": {
        "colab": {
          "base_uri": "https://localhost:8080/"
        },
        "id": "jaeqsJv-V2rp",
        "outputId": "eb04b463-8762-4349-c2a2-a43af7f55051"
      },
      "execution_count": 6,
      "outputs": [
        {
          "output_type": "execute_result",
          "data": {
            "text/plain": [
              "('s', 't', 'r', 'i', 'n', 'g')"
            ]
          },
          "metadata": {},
          "execution_count": 6
        }
      ]
    },
    {
      "cell_type": "code",
      "source": [
        "# Accessing a specific element\n",
        "tup[0]"
      ],
      "metadata": {
        "colab": {
          "base_uri": "https://localhost:8080/",
          "height": 35
        },
        "id": "spqa9iD8WWYC",
        "outputId": "0413de91-993e-4455-876c-3d9740233bb7"
      },
      "execution_count": 9,
      "outputs": [
        {
          "output_type": "execute_result",
          "data": {
            "text/plain": [
              "'s'"
            ],
            "application/vnd.google.colaboratory.intrinsic+json": {
              "type": "string"
            }
          },
          "metadata": {},
          "execution_count": 9
        }
      ]
    },
    {
      "cell_type": "code",
      "source": [
        "# Sometimes parentheses are needed\n",
        "nested_tup = (4, 5, 6), (7, 8)\n",
        "nested_tup"
      ],
      "metadata": {
        "colab": {
          "base_uri": "https://localhost:8080/"
        },
        "id": "a-Q5M0sAWxW7",
        "outputId": "9f0f426a-4057-4576-dd5c-24c45ec466c5"
      },
      "execution_count": 12,
      "outputs": [
        {
          "output_type": "execute_result",
          "data": {
            "text/plain": [
              "((4, 5, 6), (7, 8))"
            ]
          },
          "metadata": {},
          "execution_count": 12
        }
      ]
    },
    {
      "cell_type": "code",
      "source": [
        "nested_tup[0]"
      ],
      "metadata": {
        "colab": {
          "base_uri": "https://localhost:8080/"
        },
        "id": "EzTXfLj0ehv6",
        "outputId": "867dd505-9216-449d-b6db-f8f76c7b6b17"
      },
      "execution_count": 13,
      "outputs": [
        {
          "output_type": "execute_result",
          "data": {
            "text/plain": [
              "(4, 5, 6)"
            ]
          },
          "metadata": {},
          "execution_count": 13
        }
      ]
    },
    {
      "cell_type": "code",
      "source": [
        "nested_tup[1]"
      ],
      "metadata": {
        "colab": {
          "base_uri": "https://localhost:8080/"
        },
        "id": "_xYVrtuxek8j",
        "outputId": "047531d2-fb26-4197-c3a2-56baf1cf81fb"
      },
      "execution_count": 14,
      "outputs": [
        {
          "output_type": "execute_result",
          "data": {
            "text/plain": [
              "(7, 8)"
            ]
          },
          "metadata": {},
          "execution_count": 14
        }
      ]
    },
    {
      "cell_type": "code",
      "source": [
        "# Cannot modify after\n",
        "tup = tuple(['foo', [1, 2], True])\n",
        "tup[2] = False"
      ],
      "metadata": {
        "colab": {
          "base_uri": "https://localhost:8080/",
          "height": 176
        },
        "id": "DjTt8qHlenjH",
        "outputId": "0a07d615-13c8-408d-cf8a-93e87b4ebbea"
      },
      "execution_count": 15,
      "outputs": [
        {
          "output_type": "error",
          "ename": "TypeError",
          "evalue": "'tuple' object does not support item assignment",
          "traceback": [
            "\u001b[0;31m---------------------------------------------------------------------------\u001b[0m",
            "\u001b[0;31mTypeError\u001b[0m                                 Traceback (most recent call last)",
            "\u001b[0;32m/tmp/ipython-input-15-3900505232.py\u001b[0m in \u001b[0;36m<cell line: 0>\u001b[0;34m()\u001b[0m\n\u001b[1;32m      1\u001b[0m \u001b[0;31m# Cannot modify after\u001b[0m\u001b[0;34m\u001b[0m\u001b[0;34m\u001b[0m\u001b[0m\n\u001b[1;32m      2\u001b[0m \u001b[0mtup\u001b[0m \u001b[0;34m=\u001b[0m \u001b[0mtuple\u001b[0m\u001b[0;34m(\u001b[0m\u001b[0;34m[\u001b[0m\u001b[0;34m'foo'\u001b[0m\u001b[0;34m,\u001b[0m \u001b[0;34m[\u001b[0m\u001b[0;36m1\u001b[0m\u001b[0;34m,\u001b[0m \u001b[0;36m2\u001b[0m\u001b[0;34m]\u001b[0m\u001b[0;34m,\u001b[0m \u001b[0;32mTrue\u001b[0m\u001b[0;34m]\u001b[0m\u001b[0;34m)\u001b[0m\u001b[0;34m\u001b[0m\u001b[0;34m\u001b[0m\u001b[0m\n\u001b[0;32m----> 3\u001b[0;31m \u001b[0mtup\u001b[0m\u001b[0;34m[\u001b[0m\u001b[0;36m2\u001b[0m\u001b[0;34m]\u001b[0m \u001b[0;34m=\u001b[0m \u001b[0;32mFalse\u001b[0m\u001b[0;34m\u001b[0m\u001b[0;34m\u001b[0m\u001b[0m\n\u001b[0m",
            "\u001b[0;31mTypeError\u001b[0m: 'tuple' object does not support item assignment"
          ]
        }
      ]
    },
    {
      "cell_type": "code",
      "source": [
        "# if mutable object inside tuple can be modified\n",
        "tup[1].append(3)\n",
        "tup"
      ],
      "metadata": {
        "colab": {
          "base_uri": "https://localhost:8080/"
        },
        "id": "wo76sdWgeuZs",
        "outputId": "d5949080-d4fc-4b2d-b90b-58ebae4b5e23"
      },
      "execution_count": 16,
      "outputs": [
        {
          "output_type": "execute_result",
          "data": {
            "text/plain": [
              "('foo', [1, 2, 3], True)"
            ]
          },
          "metadata": {},
          "execution_count": 16
        }
      ]
    },
    {
      "cell_type": "code",
      "source": [
        "# Concatenate tuples\n",
        "(4, None, 'foo') + (6, 0) + ('bar',)"
      ],
      "metadata": {
        "colab": {
          "base_uri": "https://localhost:8080/"
        },
        "id": "yrLJDaxqfDO0",
        "outputId": "add1c972-e303-4769-80ee-8291edb33be9"
      },
      "execution_count": 17,
      "outputs": [
        {
          "output_type": "execute_result",
          "data": {
            "text/plain": [
              "(4, None, 'foo', 6, 0, 'bar')"
            ]
          },
          "metadata": {},
          "execution_count": 17
        }
      ]
    },
    {
      "cell_type": "code",
      "source": [
        "# Multiply Tuples\n",
        "('foo', 'bar') * 4"
      ],
      "metadata": {
        "colab": {
          "base_uri": "https://localhost:8080/"
        },
        "id": "V8DHM6DkfL1F",
        "outputId": "915156d8-c13d-4f90-8029-672810c114f5"
      },
      "execution_count": 18,
      "outputs": [
        {
          "output_type": "execute_result",
          "data": {
            "text/plain": [
              "('foo', 'bar', 'foo', 'bar', 'foo', 'bar', 'foo', 'bar')"
            ]
          },
          "metadata": {},
          "execution_count": 18
        }
      ]
    },
    {
      "cell_type": "code",
      "source": [
        "# uplacking tuples\n",
        "tup = (4, 5, 6)\n",
        "a, b, c = tup\n",
        "b"
      ],
      "metadata": {
        "colab": {
          "base_uri": "https://localhost:8080/"
        },
        "id": "ZX4y-KAWfS2j",
        "outputId": "07c0f6d1-70e8-49e5-ce16-262994b518a8"
      },
      "execution_count": 19,
      "outputs": [
        {
          "output_type": "execute_result",
          "data": {
            "text/plain": [
              "5"
            ]
          },
          "metadata": {},
          "execution_count": 19
        }
      ]
    },
    {
      "cell_type": "code",
      "source": [
        "# sequences with nested tuples\n",
        "tup = 4, 5, (6, 7)\n",
        "a, b, (c, d) = tup\n",
        "d"
      ],
      "metadata": {
        "colab": {
          "base_uri": "https://localhost:8080/"
        },
        "id": "Brj2KEg9fY2W",
        "outputId": "83a8a570-259e-4dea-8cff-b850aff681d1"
      },
      "execution_count": 20,
      "outputs": [
        {
          "output_type": "execute_result",
          "data": {
            "text/plain": [
              "7"
            ]
          },
          "metadata": {},
          "execution_count": 20
        }
      ]
    },
    {
      "cell_type": "code",
      "source": [
        "# swap names\n",
        "a, b = 1, 2\n",
        "a"
      ],
      "metadata": {
        "colab": {
          "base_uri": "https://localhost:8080/"
        },
        "id": "RJD9AWprfh7H",
        "outputId": "b16abfec-5c76-43e0-d2bb-fa8b13a20005"
      },
      "execution_count": 21,
      "outputs": [
        {
          "output_type": "execute_result",
          "data": {
            "text/plain": [
              "1"
            ]
          },
          "metadata": {},
          "execution_count": 21
        }
      ]
    },
    {
      "cell_type": "code",
      "source": [
        "b"
      ],
      "metadata": {
        "colab": {
          "base_uri": "https://localhost:8080/"
        },
        "id": "I2NJNE9Af5RQ",
        "outputId": "370bf920-dee0-4a15-9345-ca8d64fa84a7"
      },
      "execution_count": 22,
      "outputs": [
        {
          "output_type": "execute_result",
          "data": {
            "text/plain": [
              "2"
            ]
          },
          "metadata": {},
          "execution_count": 22
        }
      ]
    },
    {
      "cell_type": "code",
      "source": [
        "b, a = a, b\n",
        "a"
      ],
      "metadata": {
        "colab": {
          "base_uri": "https://localhost:8080/"
        },
        "id": "lKFYepR2f63N",
        "outputId": "da6ba231-088c-496a-f7e6-3486442752ef"
      },
      "execution_count": 23,
      "outputs": [
        {
          "output_type": "execute_result",
          "data": {
            "text/plain": [
              "2"
            ]
          },
          "metadata": {},
          "execution_count": 23
        }
      ]
    },
    {
      "cell_type": "code",
      "source": [
        "b"
      ],
      "metadata": {
        "colab": {
          "base_uri": "https://localhost:8080/"
        },
        "id": "nN23WyFJf9AV",
        "outputId": "174b0eff-8698-4926-f92e-53157d0b44c0"
      },
      "execution_count": 24,
      "outputs": [
        {
          "output_type": "execute_result",
          "data": {
            "text/plain": [
              "1"
            ]
          },
          "metadata": {},
          "execution_count": 24
        }
      ]
    },
    {
      "cell_type": "code",
      "source": [
        "# tuple unpacking usasge with lists and tuples\n",
        "seq = [(1, 2, 3), (4, 5, 6), (7, 8, 9)]\n",
        "for a, b, c in seq:\n",
        "    print(f'a={a}, b={b}, c={c}')"
      ],
      "metadata": {
        "colab": {
          "base_uri": "https://localhost:8080/"
        },
        "id": "Rq6t38-Ef92U",
        "outputId": "6ddb28e9-ec08-4485-edc8-87b27e8310ae"
      },
      "execution_count": 25,
      "outputs": [
        {
          "output_type": "stream",
          "name": "stdout",
          "text": [
            "a=1, b=2, c=3\n",
            "a=4, b=5, c=6\n",
            "a=7, b=8, c=9\n"
          ]
        }
      ]
    },
    {
      "cell_type": "code",
      "source": [
        "# returning from a function\n",
        "values = 1, 2, 3, 4, 5\n",
        "a, b, *rest = values\n",
        "a"
      ],
      "metadata": {
        "colab": {
          "base_uri": "https://localhost:8080/"
        },
        "id": "O1gCqb0EgX-M",
        "outputId": "c2c780db-5fdd-4ce5-ad2f-3318ba0df49a"
      },
      "execution_count": 27,
      "outputs": [
        {
          "output_type": "execute_result",
          "data": {
            "text/plain": [
              "1"
            ]
          },
          "metadata": {},
          "execution_count": 27
        }
      ]
    },
    {
      "cell_type": "code",
      "source": [
        "b"
      ],
      "metadata": {
        "colab": {
          "base_uri": "https://localhost:8080/"
        },
        "id": "wlBI5Bl1gk4v",
        "outputId": "9641401b-b78f-4156-cb05-71147a990e2d"
      },
      "execution_count": 28,
      "outputs": [
        {
          "output_type": "execute_result",
          "data": {
            "text/plain": [
              "2"
            ]
          },
          "metadata": {},
          "execution_count": 28
        }
      ]
    },
    {
      "cell_type": "code",
      "source": [
        "rest"
      ],
      "metadata": {
        "colab": {
          "base_uri": "https://localhost:8080/"
        },
        "id": "c9jH9W86gpc6",
        "outputId": "0423e4b4-6598-4783-88e5-2641ce9b1552"
      },
      "execution_count": 29,
      "outputs": [
        {
          "output_type": "execute_result",
          "data": {
            "text/plain": [
              "[3, 4, 5]"
            ]
          },
          "metadata": {},
          "execution_count": 29
        }
      ]
    },
    {
      "cell_type": "code",
      "source": [
        "a, b, *_ = values"
      ],
      "metadata": {
        "id": "7s_YN7jzgrHw"
      },
      "execution_count": 30,
      "outputs": []
    },
    {
      "cell_type": "code",
      "source": [
        "# tuple methods\n",
        "a = (1, 2, 2, 2, 3, 4, 2)\n",
        "a.count(2)"
      ],
      "metadata": {
        "colab": {
          "base_uri": "https://localhost:8080/"
        },
        "id": "K2pe3GJ6gyDe",
        "outputId": "9a5ff29e-eabb-472f-b3c4-33b42eb08aaa"
      },
      "execution_count": 31,
      "outputs": [
        {
          "output_type": "execute_result",
          "data": {
            "text/plain": [
              "4"
            ]
          },
          "metadata": {},
          "execution_count": 31
        }
      ]
    },
    {
      "cell_type": "markdown",
      "metadata": {
        "id": "u_LxdVjNSvER"
      },
      "source": [
        "## Problem 2"
      ]
    },
    {
      "cell_type": "markdown",
      "metadata": {
        "id": "6mfoRFyISvER"
      },
      "source": [
        "#### In this problem, please type out the code (in separate cells) under the List heading (stop before  Dictionary heading) in Section 3.1 Data Structures and Sequences (chapter 3 of textbook)."
      ]
    },
    {
      "cell_type": "code",
      "execution_count": null,
      "metadata": {
        "id": "8uKBtILDSvES"
      },
      "outputs": [],
      "source": [
        "# Type code below"
      ]
    },
    {
      "cell_type": "markdown",
      "metadata": {
        "id": "_KLh_IWpSvES"
      },
      "source": [
        "## Problem 3"
      ]
    },
    {
      "cell_type": "markdown",
      "metadata": {
        "id": "IKst59sRSvES"
      },
      "source": [
        "#### In this problem, please type out the code (in separate cells) under the Dictionary heading (stop before  Set heading) in Section 3.1 Data Structures and Sequences (chapter 3 of textbook)."
      ]
    },
    {
      "cell_type": "code",
      "execution_count": null,
      "metadata": {
        "scrolled": false,
        "id": "dm5bs-wZSvES"
      },
      "outputs": [],
      "source": [
        "# Type code below"
      ]
    },
    {
      "cell_type": "markdown",
      "metadata": {
        "id": "Jo9PO_o4SvES"
      },
      "source": [
        "## Problem 4"
      ]
    },
    {
      "cell_type": "markdown",
      "metadata": {
        "id": "FFDGIJKKSvES"
      },
      "source": [
        "#### In this problem, please type out the code (in separate cells) under the Set heading (stop before 3.2 Functions) in Section 3.1 Data Structures and Sequences (chapter 3 of textbook)."
      ]
    },
    {
      "cell_type": "code",
      "execution_count": null,
      "metadata": {
        "id": "jae4-BLhSvES"
      },
      "outputs": [],
      "source": [
        "# Type code below"
      ]
    },
    {
      "cell_type": "markdown",
      "metadata": {
        "id": "NMV8lBwnSvES"
      },
      "source": [
        "## Problem 5"
      ]
    },
    {
      "cell_type": "markdown",
      "metadata": {
        "id": "pCv_K3h0SvES"
      },
      "source": [
        "#### In this problem, please type out the code (in separate cells) under the 3.2 Functions heading (stop before Generators heading) in Section 3.2 Functions (chapter 3 of textbook)."
      ]
    },
    {
      "cell_type": "code",
      "execution_count": null,
      "metadata": {
        "id": "ZGUL6yOkSvES"
      },
      "outputs": [],
      "source": [
        "# Type code below"
      ]
    },
    {
      "cell_type": "markdown",
      "metadata": {
        "id": "r_q6BHEfSvES"
      },
      "source": [
        "## Problem 6"
      ]
    },
    {
      "cell_type": "markdown",
      "metadata": {
        "id": "6TzQPWooSvET"
      },
      "source": [
        "#### In this problem, please type out the code (in separate cells) under the Generatorss heading (stop before Errors and Exception Handling heading) in Section 3.2 Functions (chapter 3 of textbook)."
      ]
    },
    {
      "cell_type": "code",
      "execution_count": null,
      "metadata": {
        "scrolled": true,
        "id": "XwAGQw98SvET"
      },
      "outputs": [],
      "source": [
        "# Type code below"
      ]
    },
    {
      "cell_type": "markdown",
      "metadata": {
        "id": "9KpS9tQbSvET"
      },
      "source": [
        "## Problem 7 & 8 (worth 4 points)"
      ]
    },
    {
      "cell_type": "markdown",
      "metadata": {
        "id": "CRgItA58SvET"
      },
      "source": [
        "#### In this problem, please type out the code (in separate cells) under the 4.1 The NumPy ndarray: A Multidimensional Array Object heading (stop before 4.2 Pseudorandom Number Generation heading) in 4.1 The NumPy ndarray: A Multidimensional Array Object (chapter 4 of textbook)."
      ]
    },
    {
      "cell_type": "code",
      "execution_count": null,
      "metadata": {
        "scrolled": true,
        "id": "OJwztSRuSvET"
      },
      "outputs": [],
      "source": [
        "# Type code below"
      ]
    },
    {
      "cell_type": "markdown",
      "metadata": {
        "id": "mPpkorc4SvET"
      },
      "source": [
        "## Problem 9"
      ]
    },
    {
      "cell_type": "markdown",
      "metadata": {
        "id": "5WwoxnxQSvET"
      },
      "source": [
        "#### In this problem, please type out the code (in separate cells) under the 4.2 Pseudorandom Number Generation and 4.3 Universal Functions: Fast Element-Wise Array Functions (stop before 4.4 Array-Oriented Programming with Arrays heading) in 4.2 Pseudorandom Number Generation and 4.3 Universal Functions: Fast Element-Wise Array Functions (chapter 4 of textbook)."
      ]
    },
    {
      "cell_type": "code",
      "execution_count": null,
      "metadata": {
        "scrolled": true,
        "id": "sk_kfTxqSvET"
      },
      "outputs": [],
      "source": [
        "# Type code below"
      ]
    },
    {
      "cell_type": "markdown",
      "metadata": {
        "id": "Ynl8iNVXSvET"
      },
      "source": [
        "## Problem 10"
      ]
    },
    {
      "cell_type": "markdown",
      "metadata": {
        "id": "hj2--31SSvET"
      },
      "source": [
        "#### In this problem, please type out the code (in separate cells) under the 4.4 Array-Oriented Programming wth Arrays, 4.5 File Input and Output with Arrays, 4.6 Linear Algebra (stop before 4.6 Example: Random Walks heading) in 4.2 Pseudorandom Number Generation and 4.3 Universal Functions: Fast Element-Wise Array Functions (chapter 4 of textbook)."
      ]
    },
    {
      "cell_type": "code",
      "execution_count": null,
      "metadata": {
        "scrolled": true,
        "id": "DcItsEH1SvET"
      },
      "outputs": [],
      "source": [
        "# Type code below"
      ]
    }
  ],
  "metadata": {
    "kernelspec": {
      "display_name": "Python 3 (ipykernel)",
      "language": "python",
      "name": "python3"
    },
    "language_info": {
      "codemirror_mode": {
        "name": "ipython",
        "version": 3
      },
      "file_extension": ".py",
      "mimetype": "text/x-python",
      "name": "python",
      "nbconvert_exporter": "python",
      "pygments_lexer": "ipython3",
      "version": "3.11.4"
    },
    "colab": {
      "provenance": [],
      "include_colab_link": true
    }
  },
  "nbformat": 4,
  "nbformat_minor": 0
}