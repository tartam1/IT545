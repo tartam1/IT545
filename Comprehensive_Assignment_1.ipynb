{
  "cells": [
    {
      "cell_type": "markdown",
      "metadata": {
        "id": "view-in-github",
        "colab_type": "text"
      },
      "source": [
        "<a href=\"https://colab.research.google.com/github/tartam1/IT545/blob/main/Comprehensive_Assignment_1.ipynb\" target=\"_parent\"><img src=\"https://colab.research.google.com/assets/colab-badge.svg\" alt=\"Open In Colab\"/></a>"
      ]
    },
    {
      "cell_type": "markdown",
      "metadata": {
        "id": "IyXLuwCYZ1y3"
      },
      "source": [
        "# IT545 - Programming for Data Analysis\n",
        "## Comprehensive Assignment 1"
      ]
    },
    {
      "cell_type": "markdown",
      "metadata": {
        "id": "qN1by_6nZ1y6"
      },
      "source": [
        "### Problem 1\n",
        "Type out the code in the cell below to print out your name, course # and assignment.\n",
        "#### For example:\n",
        "Chris Heiden<br>\n",
        "IT545 Programming for Data Analysis<br>\n",
        "Comprehensive Assignment 1<br>"
      ]
    },
    {
      "cell_type": "code",
      "execution_count": null,
      "metadata": {
        "id": "TuIHWokGZ1y7"
      },
      "outputs": [],
      "source": [
        "#Insert your code here along with the execution of it.\n",
        "print(\"James Tartamella\")\n",
        "print(\"IT545 Programming for Data Analysis\")\n",
        "print(\"Comprehensive Assignment 1\""
      ]
    },
    {
      "cell_type": "markdown",
      "metadata": {
        "id": "NxBAPcSjZ1y8"
      },
      "source": [
        "### Problem 2\n",
        "In this code, you will demonstrate a few things. You will have a simple if statement that prints to display a message if the if statement is successfully executed.\n",
        "#### Example:\n",
        "if 5 > 2:\n",
        "    print(\"Five is greater than two!\")\n",
        "Now, write the code that will check if 3 is less than 8 and print to the display a message that summarizes up what you will see."
      ]
    },
    {
      "cell_type": "code",
      "execution_count": 1,
      "metadata": {
        "colab": {
          "base_uri": "https://localhost:8080/"
        },
        "id": "0iViKDvEZ1y9",
        "outputId": "0d915a72-5070-47df-9a94-a5c0aba1a5af"
      },
      "outputs": [
        {
          "output_type": "stream",
          "name": "stdout",
          "text": [
            "Three is less than eight!\n"
          ]
        }
      ],
      "source": [
        "#Insert your code here along with the execution of it.\n",
        "if 3 < 8:\n",
        "    print(\"Three is less than eight!\")"
      ]
    },
    {
      "cell_type": "markdown",
      "metadata": {
        "id": "YZoIImOiZ1y9"
      },
      "source": [
        "### Problem 3\n",
        "In this problem, you will demonstrate your understanding of variables and printing them to the display.\n",
        "#### Example:\n",
        "This following code sets the variable x = 5 and y = \"John\". 5 is a number where \"John\" is a string.<br>\n",
        "x = 5<br>\n",
        "y = \"John\"<br>\n",
        "print(x)<br>\n",
        "print(y)<br>\n",
        "Now, you need to set two variables - a and b - to the values of \"Spartacus\" and 22.5. Then display them. <br>\n"
      ]
    },
    {
      "cell_type": "code",
      "execution_count": 2,
      "metadata": {
        "colab": {
          "base_uri": "https://localhost:8080/"
        },
        "id": "lE4wnFjaZ1y9",
        "outputId": "83e558e6-e3bc-4021-92da-d642e60e3da6"
      },
      "outputs": [
        {
          "output_type": "stream",
          "name": "stdout",
          "text": [
            "Spartacus\n",
            "22.5\n"
          ]
        }
      ],
      "source": [
        "#Insert your code here along with the execution of it.\n",
        "# I wanted to say I am sparticus :)\n",
        "a = \"Spartacus\"\n",
        "b = 22.5\n",
        "print(a)\n",
        "print(b)\n"
      ]
    },
    {
      "cell_type": "markdown",
      "metadata": {
        "id": "oWRKDgYtZ1y-"
      },
      "source": [
        "### Problem 4\n",
        "In this problem, please demonstrate the addition of two declared variables. Let x be 22 and y be 78. Add these two variables together and print the addition to the screen."
      ]
    },
    {
      "cell_type": "code",
      "execution_count": 5,
      "metadata": {
        "colab": {
          "base_uri": "https://localhost:8080/"
        },
        "id": "akd5SQl_Z1y-",
        "outputId": "f08cfb21-9fc1-4f72-a34f-9fe7887ee5ee"
      },
      "outputs": [
        {
          "output_type": "stream",
          "name": "stdout",
          "text": [
            "100\n"
          ]
        }
      ],
      "source": [
        "#Insert your code here along with the execution of it.\n",
        "x = 22\n",
        "y = 78\n",
        "print(x + y)"
      ]
    },
    {
      "cell_type": "markdown",
      "metadata": {
        "id": "cavk0A35Z1y-"
      },
      "source": [
        "### Problem 5\n",
        "In this problem, you will create two variables and add them. One variable is x with a value of \"John is:\" and the other variable is y with a value of 25. Create the code that will print to display \"John is: 25 years old.\""
      ]
    },
    {
      "cell_type": "code",
      "execution_count": 6,
      "metadata": {
        "colab": {
          "base_uri": "https://localhost:8080/"
        },
        "id": "Epd1ZONPZ1y-",
        "outputId": "dbf5e3a0-5445-4c5d-8e1f-5134e7ffd2a9"
      },
      "outputs": [
        {
          "output_type": "stream",
          "name": "stdout",
          "text": [
            "John is: 25 years old.\n"
          ]
        }
      ],
      "source": [
        "#Insert your code here along with the execution of it.\n",
        "# setup and print\n",
        "x = \"John is:\"\n",
        "y = 25\n",
        "print(x, y, \"years old.\")"
      ]
    },
    {
      "cell_type": "markdown",
      "metadata": {
        "id": "n0NiALdUZ1y_"
      },
      "source": [
        "### Problem 6\n",
        "You are going to write come code to demonstrate the order of operations / precedence (from mathematics). If you recall, the memory device to remember this - PEMDAS (Please Excuse My Dear Aunt Sally).<br>\n",
        "P - Parenthesis<br>\n",
        "E - Exponents<br>\n",
        "M - Multiplication<br>\n",
        "D - Division<br>\n",
        "A - Addition<br>\n",
        "S - Subtraction<br>\n",
        "I want to subtract 4 from 10 and then square it. Write the code to do this."
      ]
    },
    {
      "cell_type": "code",
      "execution_count": 7,
      "metadata": {
        "colab": {
          "base_uri": "https://localhost:8080/"
        },
        "id": "tZW91kX4Z1y_",
        "outputId": "d9d88c4c-07c9-46d7-d663-bdb98791aa55"
      },
      "outputs": [
        {
          "output_type": "stream",
          "name": "stdout",
          "text": [
            "36\n"
          ]
        }
      ],
      "source": [
        "#Insert your code here along with the execution of it.\n",
        "# mathing\n",
        "print((10 - 4) ** 2)"
      ]
    },
    {
      "cell_type": "markdown",
      "metadata": {
        "id": "jDg82a7mZ1y_"
      },
      "source": [
        "### Problem 7\n",
        "Create a list named thisList which contains the following string values - apple, pear, strawberry, mango and kiwi. Also, print this list to the display."
      ]
    },
    {
      "cell_type": "code",
      "execution_count": 11,
      "metadata": {
        "colab": {
          "base_uri": "https://localhost:8080/"
        },
        "id": "HvrHicAAZ1y_",
        "outputId": "3ba1f6f7-ff62-478d-bc50-c9ba49947251"
      },
      "outputs": [
        {
          "output_type": "stream",
          "name": "stdout",
          "text": [
            "['apple', 'pear', 'strawberry', 'mango', 'kiwi']\n"
          ]
        }
      ],
      "source": [
        "#Insert your code here along with the execution of it.\n",
        "# set up and then print list\n",
        "thisList = [\"apple\", \"pear\", \"strawberry\", \"mango\", \"kiwi\"]\n",
        "print(thisList)"
      ]
    },
    {
      "cell_type": "markdown",
      "metadata": {
        "id": "F1kKqomvZ1y_"
      },
      "source": [
        "### Problem 8\n",
        "Now, take the list from Problem 7 and display the first, third and fifth item from the list in separate lines."
      ]
    },
    {
      "cell_type": "code",
      "execution_count": 12,
      "metadata": {
        "colab": {
          "base_uri": "https://localhost:8080/"
        },
        "id": "7qSwiEcuZ1y_",
        "outputId": "d76f5943-9c8a-4b26-d9de-d00a536d3f18"
      },
      "outputs": [
        {
          "output_type": "stream",
          "name": "stdout",
          "text": [
            "apple\n",
            "strawberry\n",
            "kiwi\n"
          ]
        }
      ],
      "source": [
        "#Insert your code here along with the execution of it.\n",
        "# print list items\n",
        "print(thisList[0])\n",
        "print(thisList[2])\n",
        "print(thisList[4])"
      ]
    },
    {
      "cell_type": "markdown",
      "metadata": {
        "id": "-xP-opP5Z1y_"
      },
      "source": [
        "### Problem 9\n",
        "In this problem, we are going to change an item value in a list.\n",
        "#### Example\n",
        "thisList2 = [\"pie\", \"cake\", \"icecream\"]<br>\n",
        "print(thisList2)<br>\n",
        "thisList2[1] = \"brownies\"<br>\n",
        "print(thisList2)<br>\n",
        "<ol>\n",
        "<li>Now, create a new list called thisList3 with the following values: box, javelin, phone, mouse.</li>\n",
        "<li>Print out this list.</li>\n",
        "<li>Next, change the first and fourth item values to discus and cat, respectively.</li>\n",
        "<li>Print out the list to show the new values.</li>\n",
        "</ol>"
      ]
    },
    {
      "cell_type": "code",
      "execution_count": 14,
      "metadata": {
        "colab": {
          "base_uri": "https://localhost:8080/"
        },
        "id": "EK3oRiC0Z1zA",
        "outputId": "781ecbf2-674d-4007-a5c9-2e8c0ecb7628"
      },
      "outputs": [
        {
          "output_type": "stream",
          "name": "stdout",
          "text": [
            "['box', 'javelin', 'phone', 'mouse']\n",
            "made change\n",
            "['discus', 'javelin', 'phone', 'cat']\n"
          ]
        }
      ],
      "source": [
        "#Insert your code here along with the execution of it.\n",
        "thisList3 = [\"box\", \"javelin\", \"phone\", \"mouse\"]\n",
        "print(thisList3)\n",
        "# make change\n",
        "thisList3[0] = \"discus\"\n",
        "thisList3[3] = \"cat\"\n",
        "# let know change has happened\n",
        "print(\"made change\")\n",
        "print(thisList3)"
      ]
    },
    {
      "cell_type": "markdown",
      "metadata": {
        "id": "xULzoSmJZ1zA"
      },
      "source": [
        "### Problem 10\n",
        "In this problem, we are going to loop through a list with a for loop and print them values to the display.<br>\n",
        "#### Example\n",
        "thisList4 = [\"bow\",\"arrow\",\"quiver\"]<br>\n",
        "for x in thisList4:<br>\n",
        "&nbsp;&nbsp;&nbsp;&nbsp;print(x)<br>\n",
        "Now, create a new list named ProblemTenTestList with the values: kroger, aldi, walmart, meijer. Now, create a for loop that will loop through all values and print them."
      ]
    },
    {
      "cell_type": "code",
      "execution_count": 15,
      "metadata": {
        "colab": {
          "base_uri": "https://localhost:8080/"
        },
        "id": "CMaG6CtbZ1zA",
        "outputId": "b5a367b1-ce2a-4968-ec2f-0d2d0ce1e326"
      },
      "outputs": [
        {
          "output_type": "stream",
          "name": "stdout",
          "text": [
            "kroger\n",
            "aldi\n",
            "walmart\n",
            "meijer\n"
          ]
        }
      ],
      "source": [
        "#Insert your code here along with the execution of it.\n",
        "ProblemTenTestList = [\"kroger\", \"aldi\", \"walmart\", \"meijer\"]\n",
        "for store_name in ProblemTenTestList:\n",
        "    print(store_name)"
      ]
    },
    {
      "cell_type": "markdown",
      "metadata": {
        "id": "FeIOntChZ1zA"
      },
      "source": [
        "### Problem 11\n",
        "In this problem, you are going to check to see if a specified item exists in a list. This uses the \"in\" keyword.<br>\n",
        "#### Example\n",
        "Check to see if arrow exists in the list.<br>\n",
        "thisList5 = [\"bow\",\"arrow\",\"quiver\"]<br>\n",
        "if \"arrow\" in thisList5:<br>\n",
        "&nbsp;&nbsp;&nbsp;&nbsp;print(\"Yes, 'arrow' exists in thisList5\")<br>\n",
        "Now, create a list called ProblemElevenTestList with the following values: kroger, aldi, walmart, and franks. Now, check to see if the value bobs exists in this. Now, you will have to employ another item - the else if or elif."
      ]
    },
    {
      "cell_type": "code",
      "execution_count": 22,
      "metadata": {
        "colab": {
          "base_uri": "https://localhost:8080/"
        },
        "id": "MWfjIh9cZ1zA",
        "outputId": "9bd2cbf0-d09d-4baa-9da2-2ee7f1f50125"
      },
      "outputs": [
        {
          "output_type": "stream",
          "name": "stdout",
          "text": [
            "Yes, 'franks' exists in ProblemElevenTestList\n"
          ]
        }
      ],
      "source": [
        "#Insert your code here along with the execution of it.\n",
        "ProblemElevenTestList = [\"kroger\", \"aldi\", \"walmart\", \"franks\"]\n",
        "if \"bobs\" in ProblemElevenTestList:\n",
        "    print(\"Yes, 'bobs' exists in ProblemElevenTestList\")\n",
        "elif \"franks\" in ProblemElevenTestList:\n",
        "    print(\"Yes, 'franks' exists in ProblemElevenTestList\")\n",
        "elif \"bobs\" not in ProblemElevenTestList:\n",
        "    print(\"No, 'bobs or franks' are not in ProblemElevenTestList. It does not exist there\")"
      ]
    },
    {
      "cell_type": "markdown",
      "metadata": {
        "id": "Efzfr4UjZ1zA"
      },
      "source": [
        "### Problem 12\n",
        "In this example, you will code a tuple (which is not changeable).<br>\n",
        "Create a tuple named ProblemTwelveTuple with the values apple, cherry, banana. Print it to the display."
      ]
    },
    {
      "cell_type": "code",
      "execution_count": null,
      "metadata": {
        "id": "rQFQz_tGZ1zA"
      },
      "outputs": [],
      "source": [
        "#Insert your code here along with the execution of it.\n",
        "# Create tuple and print\n",
        "ProblemTwelveTuple = (\"apple\", \"cherry\", \"banana\")\n",
        "print(ProblemTwelveTuple)"
      ]
    },
    {
      "cell_type": "markdown",
      "metadata": {
        "id": "y06w9WxHZ1zA"
      },
      "source": [
        "### Problem 13\n",
        "In this example, you will code a tuple (which is not changeable).<br>\n",
        "Create a tuple named ProblemThirteenTuple with the values apple, cherry, banana, and salad. Look through it with a for loop and then print it to the display."
      ]
    },
    {
      "cell_type": "code",
      "execution_count": 23,
      "metadata": {
        "colab": {
          "base_uri": "https://localhost:8080/"
        },
        "id": "f9uUKLx_Z1zA",
        "outputId": "8686c5d2-dba8-4352-e97a-bdd663e47cb5"
      },
      "outputs": [
        {
          "output_type": "stream",
          "name": "stdout",
          "text": [
            "apple\n",
            "cherry\n",
            "banana\n",
            "salad\n"
          ]
        }
      ],
      "source": [
        "#Insert your code here along with the execution of it.\n",
        "# Create tuple and loop through then print all items\n",
        "ProblemThirteenTuple = (\"apple\", \"cherry\", \"banana\", \"salad\")\n",
        "for fruit in ProblemThirteenTuple:\n",
        "    print(fruit)"
      ]
    },
    {
      "cell_type": "markdown",
      "metadata": {
        "id": "v4HSC2qNZ1zA"
      },
      "source": [
        "### Problem 14\n",
        "Now, as a repeat of the list example, please create a tuple with the following values (named ProblemFourteenTuple): box, echo, fox, charlie, delta. Check to see if the value charlie exists in the tuple."
      ]
    },
    {
      "cell_type": "code",
      "execution_count": 30,
      "metadata": {
        "colab": {
          "base_uri": "https://localhost:8080/"
        },
        "id": "wWyQOZh6Z1zB",
        "outputId": "04feda92-7502-40f9-e398-226949b55919"
      },
      "outputs": [
        {
          "output_type": "stream",
          "name": "stdout",
          "text": [
            "charlie does not exist in ProblemFourteenTuple\n"
          ]
        }
      ],
      "source": [
        "#Insert your code here along with the execution of it.\n",
        "# set up tuple and check for charlie by doing an if and in statement.\n",
        "# if not found then show that\n",
        "ProblemFourteenTuple = (\"box\", \"echo\", \"fox\", \"charlie\", \"delta\")\n",
        "if \"charlie\" in ProblemFourteenTuple:\n",
        "    print(\"charlie exists in ProblemFourteenTuple\")\n",
        "elif \"charlie\" not in ProblemFourteenTuple:\n",
        "    print(\"charlie does not exist in ProblemFourteenTuple\")"
      ]
    },
    {
      "cell_type": "markdown",
      "metadata": {
        "id": "moMxExSmZ1zB"
      },
      "source": [
        "### Problem 15\n",
        "In this problem, you will demonstrate how many items are in the tuple.<br>\n",
        "Create a tuple named ProblemFifteenTuple with the values: box, echo, fox, charlie, delta, beta, gamma. Print to the display the number of items in the ProblemFifteenTuple tuple."
      ]
    },
    {
      "cell_type": "code",
      "execution_count": 31,
      "metadata": {
        "colab": {
          "base_uri": "https://localhost:8080/"
        },
        "id": "yqdmBP1yZ1zB",
        "outputId": "48e34869-8b89-4c4e-e385-32bf92e0eea2"
      },
      "outputs": [
        {
          "output_type": "stream",
          "name": "stdout",
          "text": [
            "7\n"
          ]
        }
      ],
      "source": [
        "#Insert your code here along with the execution of it.\n",
        "# set up tuple and use len to get the tuple lengh\n",
        "ProblemFifteenTuple = (\"box\", \"echo\", \"fox\", \"charlie\", \"delta\", \"beta\", \"gamma\")\n",
        "print(len(ProblemFifteenTuple))"
      ]
    }
  ],
  "metadata": {
    "kernelspec": {
      "display_name": "Python 3",
      "language": "python",
      "name": "python3"
    },
    "language_info": {
      "codemirror_mode": {
        "name": "ipython",
        "version": 3
      },
      "file_extension": ".py",
      "mimetype": "text/x-python",
      "name": "python",
      "nbconvert_exporter": "python",
      "pygments_lexer": "ipython3",
      "version": "3.7.4"
    },
    "colab": {
      "provenance": [],
      "include_colab_link": true
    }
  },
  "nbformat": 4,
  "nbformat_minor": 0
}